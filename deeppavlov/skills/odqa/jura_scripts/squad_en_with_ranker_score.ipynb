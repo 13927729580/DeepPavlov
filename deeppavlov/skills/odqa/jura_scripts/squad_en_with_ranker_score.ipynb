{
 "cells": [
  {
   "cell_type": "code",
   "execution_count": 1,
   "metadata": {
    "collapsed": false
   },
   "outputs": [
    {
     "name": "stderr",
     "output_type": "stream",
     "text": [
      "/home/yurakuratov/anaconda3/envs/dp/lib/python3.6/importlib/_bootstrap.py:205: RuntimeWarning: compiletime version 3.5 of module 'tensorflow.python.framework.fast_tensor_util' does not match runtime version 3.6\n",
      "  return f(*args, **kwds)\n",
      "Using TensorFlow backend.\n",
      "[nltk_data] Downloading package punkt to\n",
      "[nltk_data]     /home/yurakuratov/nltk_data...\n",
      "[nltk_data]   Package punkt is already up-to-date!\n",
      "[nltk_data] Downloading package stopwords to\n",
      "[nltk_data]     /home/yurakuratov/nltk_data...\n",
      "[nltk_data]   Package stopwords is already up-to-date!\n",
      "2018-05-10 18:04:37.219 DEBUG in 'gensim.models.doc2vec'['doc2vec'] at line 73: Fast version of gensim.models.doc2vec is being used\n",
      "2018-05-10 18:04:37.222 INFO in 'summa.preprocessing.cleaner'['textcleaner'] at line 20: 'pattern' package not found; tag filters are not available for English\n"
     ]
    },
    {
     "name": "stdout",
     "output_type": "stream",
     "text": [
      "INFO:tensorflow:Restoring parameters from /home/yurakuratov/data/DeepPavlov/download/squad_model/model\n"
     ]
    }
   ],
   "source": [
    "from deeppavlov.core.commands.train import build_model_from_config\n",
    "import json\n",
    "from tqdm import tqdm_notebook as tqdm\n",
    "from matplotlib import pyplot as plt\n",
    "import pandas as pd\n",
    "import numpy as np\n",
    "import pickle\n",
    "\n",
    "%matplotlib inline"
   ]
  },
  {
   "cell_type": "code",
   "execution_count": 2,
   "metadata": {
    "collapsed": false
   },
   "outputs": [
    {
     "name": "stderr",
     "output_type": "stream",
     "text": [
      "2018-05-10 18:04:37.767 INFO in 'deeppavlov.models.preprocessors.squad_preprocessor'['squad_preprocessor'] at line 254: SquadVocabEmbedder: loading saved tokens vocab from /home/yurakuratov/data/DeepPavlov/download/squad_model/emb/vocab_embedder.pckl\n",
      "2018-05-10 18:04:37.927 INFO in 'deeppavlov.models.preprocessors.squad_preprocessor'['squad_preprocessor'] at line 254: SquadVocabEmbedder: loading saved chars vocab from /home/yurakuratov/data/DeepPavlov/download/squad_model/emb/char_vocab_embedder.pckl\n",
      "2018-05-10 18:04:40.936 INFO in 'deeppavlov.core.models.tf_model'['tf_model'] at line 40: [loading model from /home/yurakuratov/data/DeepPavlov/download/squad_model/model]\n",
      "2018-05-10 18:04:40.982 INFO in 'tensorflow'['tf_logging'] at line 82: Restoring parameters from /home/yurakuratov/data/DeepPavlov/download/squad_model/model\n"
     ]
    }
   ],
   "source": [
    "model = build_model_from_config(json.load(open('/media/olga/Data/projects/iPavlov/DeepPavlov/deeppavlov/configs/squad/squad.json', 'r')))"
   ]
  },
  {
   "cell_type": "code",
   "execution_count": 3,
   "metadata": {
    "collapsed": false
   },
   "outputs": [
    {
     "data": {
      "text/plain": [
       "[('Pavlov', 0, 0.9995623230934143)]"
      ]
     },
     "execution_count": 3,
     "metadata": {},
     "output_type": "execute_result"
    }
   ],
   "source": [
    "model([('Pavlov killed Kenny', 'Who killed Kenny?')])"
   ]
  },
  {
   "cell_type": "code",
   "execution_count": 4,
   "metadata": {
    "collapsed": true
   },
   "outputs": [],
   "source": [
    "qas = {}\n",
    "with open('qa_to_photo_toloka_revised.tsv', 'r') as fin:\n",
    "    fin.readline()\n",
    "    for line in fin:\n",
    "        q, a = line.rstrip().split('\\t')\n",
    "        qas[q] = a"
   ]
  },
  {
   "cell_type": "code",
   "execution_count": 5,
   "metadata": {
    "collapsed": true
   },
   "outputs": [],
   "source": [
    "data = pickle.load(open('drones_sentence_ranking.pkl', 'rb'))"
   ]
  },
  {
   "cell_type": "code",
   "execution_count": 26,
   "metadata": {
    "collapsed": false
   },
   "outputs": [
    {
     "data": {
      "application/vnd.jupyter.widget-view+json": {
       "model_id": "e9f44a74047f4d56ad75dfc60505fa77",
       "version_major": 2,
       "version_minor": 0
      },
      "text/plain": [
       "A Jupyter Widget"
      ]
     },
     "metadata": {},
     "output_type": "display_data"
    },
    {
     "name": "stderr",
     "output_type": "stream",
     "text": [
      "\n"
     ]
    }
   ],
   "source": [
    "ems = []\n",
    "f1s = []\n",
    "thrs = []\n",
    "for thr in tqdm(np.linspace(0, 0.8, 11)):\n",
    "    true_ans = []\n",
    "    pred_ans = []\n",
    "    for q, sentences in data:\n",
    "        true_ans.append(([qas[q]], [-1]))\n",
    "        context = ''\n",
    "        for s, sent in sentences:\n",
    "            if s >= thr:\n",
    "                context += ' ' + sent\n",
    "            else:\n",
    "                break\n",
    "        \n",
    "        if len(context) > 0:\n",
    "            a, p, s = model([(context, q)])[0]\n",
    "            pred_ans.append((a, p))\n",
    "        else:\n",
    "            pred_ans.append(('<NO_ANS>', -1))\n",
    "    em = exact_match(true_ans, pred_ans)\n",
    "    f1 = squad_f1(true_ans, pred_ans)\n",
    "    thrs.append(thr)\n",
    "    ems.append(em)\n",
    "    f1s.append(f1)\n",
    "plt.plot(thrs, ems)\n",
    "plt.plot(thrs, f1s)\n",
    "plt.show()"
   ]
  },
  {
   "cell_type": "code",
   "execution_count": 29,
   "metadata": {
    "collapsed": false
   },
   "outputs": [
    {
     "data": {
      "image/png": "[encoded data removed]",
      "text/plain": [
       "<matplotlib.figure.Figure at 0x7f73f867c400>"
      ]
     },
     "metadata": {},
     "output_type": "display_data"
    }
   ],
   "source": [
    "# 2000 context\n",
    "plt.plot(thrs, ems)\n",
    "plt.plot(thrs, f1s)\n",
    "plt.show()"
   ]
  },
  {
   "cell_type": "code",
   "execution_count": 8,
   "metadata": {
    "collapsed": false
   },
   "outputs": [
    {
     "data": {
      "application/vnd.jupyter.widget-view+json": {
       "model_id": "3e964c41f659462fb44d43311e183c07",
       "version_major": 2,
       "version_minor": 0
      },
      "text/plain": [
       "A Jupyter Widget"
      ]
     },
     "metadata": {},
     "output_type": "display_data"
    },
    {
     "name": "stderr",
     "output_type": "stream",
     "text": [
      "\n"
     ]
    },
    {
     "data": {
      "image/png": "[encoded data removed]",
      "text/plain": [
       "<matplotlib.figure.Figure at 0x7f214d65d470>"
      ]
     },
     "metadata": {},
     "output_type": "display_data"
    }
   ],
   "source": [
    "# 4000 context"
   ]
  },
  {
   "cell_type": "code",
   "execution_count": 7,
   "metadata": {
    "collapsed": false
   },
   "outputs": [
    {
     "data": {
      "application/vnd.jupyter.widget-view+json": {
       "model_id": "4b0e55f01e9244a4a1dc6734875df04e",
       "version_major": 2,
       "version_minor": 0
      },
      "text/plain": [
       "A Jupyter Widget"
      ]
     },
     "metadata": {},
     "output_type": "display_data"
    },
    {
     "name": "stderr",
     "output_type": "stream",
     "text": [
      "\n"
     ]
    },
    {
     "data": {
      "image/png": "[encoded data removed]",
      "text/plain": [
       "<matplotlib.figure.Figure at 0x7f89c0fd5668>"
      ]
     },
     "metadata": {},
     "output_type": "display_data"
    }
   ],
   "source": [
    "# 100 context"
   ]
  },
  {
   "cell_type": "code",
   "execution_count": 7,
   "metadata": {
    "collapsed": false
   },
   "outputs": [
    {
     "data": {
      "application/vnd.jupyter.widget-view+json": {
       "model_id": "146d13e71a4d477db664c86910b385d6",
       "version_major": 2,
       "version_minor": 0
      },
      "text/plain": [
       "A Jupyter Widget"
      ]
     },
     "metadata": {},
     "output_type": "display_data"
    },
    {
     "name": "stderr",
     "output_type": "stream",
     "text": [
      "\n"
     ]
    },
    {
     "data": {
      "image/png": "[encoded data removed]",
      "text/plain": [
       "<matplotlib.figure.Figure at 0x7fe59a51fa90>"
      ]
     },
     "metadata": {},
     "output_type": "display_data"
    }
   ],
   "source": []
  },
  {
   "cell_type": "code",
   "execution_count": 8,
   "metadata": {
    "collapsed": false
   },
   "outputs": [
    {
     "data": {
      "application/vnd.jupyter.widget-view+json": {
       "model_id": "9f72be04577045e79930411c5378b122",
       "version_major": 2,
       "version_minor": 0
      },
      "text/plain": [
       "A Jupyter Widget"
      ]
     },
     "metadata": {},
     "output_type": "display_data"
    },
    {
     "name": "stderr",
     "output_type": "stream",
     "text": [
      "\n",
      "8.0 11.771319882897041\n"
     ]
    }
   ],
   "source": [
    "import random\n",
    "for thr in [0.0]:\n",
    "    true_ans = []\n",
    "    pred_ans = []\n",
    "    for q, sentences in tqdm(data):\n",
    "        true_ans.append(([qas[q]], [-1]))\n",
    "        context = ''\n",
    "        random.shuffle(sentences)\n",
    "        for s, sent in sentences:\n",
    "            if s >= thr:\n",
    "                context += ' ' + sent\n",
    "            else:\n",
    "                break\n",
    "        \n",
    "        if len(context) > 0:\n",
    "            a, p, s = model([(context, q)])[0]\n",
    "            pred_ans.append((a, p))\n",
    "        else:\n",
    "            pred_ans.append(('<NO_ANS>', -1))\n",
    "    em = exact_match(true_ans, pred_ans)\n",
    "    f1 = squad_f1(true_ans, pred_ans)\n",
    "    print(em, f1)"
   ]
  },
  {
   "cell_type": "code",
   "execution_count": 34,
   "metadata": {
    "collapsed": true
   },
   "outputs": [],
   "source": [
    "drones_text = ''\n",
    "with open('Drones.txt', 'r') as fin:\n",
    "    for line in fin:\n",
    "        drones_text += ' ' + line.strip()"
   ]
  },
  {
   "cell_type": "code",
   "execution_count": 35,
   "metadata": {
    "collapsed": false
   },
   "outputs": [
    {
     "data": {
      "application/vnd.jupyter.widget-view+json": {
       "model_id": "88e72026b71142ad8628d3c2d16618a4",
       "version_major": 2,
       "version_minor": 0
      },
      "text/plain": [
       "A Jupyter Widget"
      ]
     },
     "metadata": {},
     "output_type": "display_data"
    },
    {
     "name": "stderr",
     "output_type": "stream",
     "text": [
      "\n",
      "17.0 28.296219793233387\n"
     ]
    }
   ],
   "source": [
    "for thr in [0.0]:\n",
    "    true_ans = []\n",
    "    pred_ans = []\n",
    "    for q, sentences in tqdm(data):\n",
    "        true_ans.append(([qas[q]], [-1]))\n",
    "        context = drones_text\n",
    "        if len(context) > 0:\n",
    "            a, p, s = model([(context, q)])[0]\n",
    "            pred_ans.append((a, p))\n",
    "        else:\n",
    "            pred_ans.append(('<NO_ANS>', -1))\n",
    "    em = exact_match(true_ans, pred_ans)\n",
    "    f1 = squad_f1(true_ans, pred_ans)\n",
    "    print(em, f1)"
   ]
  },
  {
   "cell_type": "code",
   "execution_count": 32,
   "metadata": {
    "collapsed": false
   },
   "outputs": [
    {
     "data": {
      "text/plain": [
       "array([[<matplotlib.axes._subplots.AxesSubplot object at 0x7f284039da58>]], dtype=object)"
      ]
     },
     "execution_count": 32,
     "metadata": {},
     "output_type": "execute_result"
    },
    {
     "data": {
      "image/png": "[encoded data removed]",
      "text/plain": [
       "<matplotlib.figure.Figure at 0x7f284027e7f0>"
      ]
     },
     "metadata": {},
     "output_type": "display_data"
    }
   ],
   "source": [
    "positions = []\n",
    "for q, a in qas.items():\n",
    "    positions.append(drones_text.lower().rfind(a.lower(), ))\n",
    "import pandas as pd\n",
    "df = pd.DataFrame()\n",
    "df['positions'] = positions\n",
    "df.hist()"
   ]
  },
  {
   "cell_type": "code",
   "execution_count": 6,
   "metadata": {
    "collapsed": true
   },
   "outputs": [],
   "source": [
    "import re\n",
    "import string\n",
    "from collections import Counter\n",
    "\n",
    "def exact_match(y_true, y_predicted):\n",
    "    \"\"\" Calculates Exact Match score between y_true and y_predicted\n",
    "        EM score uses the best matching y_true answer:\n",
    "            if y_pred equal at least to one answer in y_true then EM = 1, else EM = 0\n",
    "\n",
    "    Args:\n",
    "        y_true: list of tuples (y_true_text, y_true_start), y_true_text and y_true_start are lists of len num_answers\n",
    "        y_predicted: list of tuples (y_pred_text, y_pred_start), y_pred_text : str, y_pred_start : int\n",
    "\n",
    "    Returns:\n",
    "        exact match score : float\n",
    "    \"\"\"\n",
    "    EM_total = 0\n",
    "    count = 0\n",
    "    for ground_truth, prediction in zip(y_true, y_predicted):\n",
    "        if len(ground_truth[0][0]) == 0:\n",
    "            # skip empty answers\n",
    "            continue\n",
    "        count += 1\n",
    "        ground_truth = ground_truth[0]\n",
    "        prediction = prediction[0]\n",
    "        EMs = [int(normalize_answer(gt) == normalize_answer(prediction)) for gt in ground_truth]\n",
    "        EM_total += max(EMs)\n",
    "    return 100 * EM_total / count if count > 0 else 0\n",
    "\n",
    "def squad_f1(y_true, y_predicted):\n",
    "    \"\"\" Calculates F-1 score between y_true and y_predicted\n",
    "        F-1 score uses the best matching y_true answer\n",
    "\n",
    "    Args:\n",
    "        y_true: list of tuples (y_true_text, y_true_start), y_true_text and y_true_start are lists of len num_answers\n",
    "        y_predicted: list of tuples (y_pred_text, y_pred_start), y_pred_text : str, y_pred_start : int\n",
    "\n",
    "    Returns:\n",
    "        F-1 score : float\n",
    "    \"\"\"\n",
    "    f1_total = 0.0\n",
    "    count = 0\n",
    "    for ground_truth, prediction in zip(y_true, y_predicted):\n",
    "        if len(ground_truth[0][0]) == 0:\n",
    "            continue\n",
    "        count += 1\n",
    "        ground_truth = ground_truth[0]\n",
    "        prediction = prediction[0]\n",
    "        prediction_tokens = normalize_answer(prediction).split()\n",
    "        f1s = []\n",
    "        for gt in ground_truth:\n",
    "            gt_tokens = normalize_answer(gt).split()\n",
    "            common = Counter(prediction_tokens) & Counter(gt_tokens)\n",
    "            num_same = sum(common.values())\n",
    "            if num_same == 0:\n",
    "                f1s.append(0.0)\n",
    "                continue\n",
    "            precision = 1.0 * num_same / len(prediction_tokens)\n",
    "            recall = 1.0 * num_same / len(gt_tokens)\n",
    "            f1 = (2 * precision * recall) / (precision + recall)\n",
    "            f1s.append(f1)\n",
    "        f1_total += max(f1s)\n",
    "    return 100 * f1_total / count if count > 0 else 0\n",
    "\n",
    "\n",
    "def normalize_answer(s):\n",
    "    def remove_articles(text):\n",
    "        return re.sub(r'\\b(a|an|the)\\b', ' ', text)\n",
    "\n",
    "    def white_space_fix(text):\n",
    "        return ' '.join(text.split())\n",
    "\n",
    "    def remove_punc(text):\n",
    "        exclude = set(string.punctuation)\n",
    "        return ''.join(ch for ch in text if ch not in exclude)\n",
    "\n",
    "    def lower(text):\n",
    "        return text.lower()\n",
    "\n",
    "    return white_space_fix(remove_articles(remove_punc(lower(s))))"
   ]
  },
  {
   "cell_type": "code",
   "execution_count": null,
   "metadata": {
    "collapsed": true
   },
   "outputs": [],
   "source": []
  }
 ],
 "metadata": {
  "kernelspec": {
   "display_name": "tensorflow",
   "language": "python",
   "name": "tensorflow"
  },
  "language_info": {
   "codemirror_mode": {
    "name": "ipython",
    "version": 3
   },
   "file_extension": ".py",
   "mimetype": "text/x-python",
   "name": "python",
   "nbconvert_exporter": "python",
   "pygments_lexer": "ipython3",
   "version": "3.6.2"
  }
 },
 "nbformat": 4,
 "nbformat_minor": 2
}
