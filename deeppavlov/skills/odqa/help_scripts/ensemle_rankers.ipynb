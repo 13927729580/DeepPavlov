{
 "cells": [
  {
   "cell_type": "code",
   "execution_count": 136,
   "metadata": {
    "collapsed": true
   },
   "outputs": [],
   "source": [
    "import pickle\n",
    "import json\n",
    "import numpy as np\n",
    "from operator import itemgetter\n",
    "from nltk.tokenize import word_tokenize\n",
    "import re\n",
    "import string"
   ]
  },
  {
   "cell_type": "code",
   "execution_count": 137,
   "metadata": {
    "collapsed": true
   },
   "outputs": [],
   "source": [
    "# drones\n",
    "# tfhub_data_path = '/home/olga/Documents/drones_paragraph_ranking.pkl'\n",
    "# rnet_data_path = '/home/olga/Documents/r_net_ranker_scores.pckl'\n",
    "# tfidf_data_path = '/media/olga/Data/projects/ODQA/data/PMEF/ranker1_drones_all_paragraphs.json'\n",
    "\n",
    "#google\n",
    "# tfhub_data_path = '/home/olga/Documents/wiki_chunks_tfhub.pkl'\n",
    "# rnet_data_path = '/home/olga/Documents/wiki_r_net_scores.pckl'\n",
    "# tfidf_data_path = '/media/olga/Data/projects/iPavlov/DeepPavlov/download/pmef/ensemble_google.json'\n",
    "\n",
    "#git\n",
    "# tfhub_data_path = '/home/olga/Documents/git_paragraph_ranking.pkl'\n",
    "# rnet_data_path = '/home/olga/Documents/git_r_net_scores.pckl'\n",
    "# tfidf_data_path = '/media/olga/Data/projects/iPavlov/DeepPavlov/download/pmef/ensemble_git.json'\n",
    "\n",
    "# drones #2\n",
    "tfhub_data_path = '/home/olga/Documents/drone_paragraph_ranking.pkl'\n",
    "rnet_data_path = '/home/olga/Documents/drones_r_net_scores.pckl'\n",
    "tfidf_data_path = '/media/olga/Data/projects/iPavlov/DeepPavlov/download/pmef/ensemble_drones.json'"
   ]
  },
  {
   "cell_type": "code",
   "execution_count": 138,
   "metadata": {
    "collapsed": true
   },
   "outputs": [],
   "source": [
    "def load_pickle(path):\n",
    "    with open(path, 'rb') as fin:\n",
    "        return pickle.load(fin)"
   ]
  },
  {
   "cell_type": "code",
   "execution_count": 139,
   "metadata": {
    "collapsed": true
   },
   "outputs": [],
   "source": [
    "def load_json(path):\n",
    "    with open(path) as fin:\n",
    "        return json.load(fin)"
   ]
  },
  {
   "cell_type": "code",
   "execution_count": 140,
   "metadata": {
    "collapsed": false
   },
   "outputs": [],
   "source": [
    "tfhub_data = load_pickle(tfhub_data_path)\n",
    "rnet_data = load_pickle(rnet_data_path)\n",
    "tfidf_data = load_json(tfidf_data_path)"
   ]
  },
  {
   "cell_type": "code",
   "execution_count": 141,
   "metadata": {
    "collapsed": false
   },
   "outputs": [
    {
     "data": {
      "text/plain": [
       "149"
      ]
     },
     "execution_count": 141,
     "metadata": {},
     "output_type": "execute_result"
    }
   ],
   "source": [
    "len(tfhub_data)"
   ]
  },
  {
   "cell_type": "code",
   "execution_count": 142,
   "metadata": {
    "collapsed": false
   },
   "outputs": [
    {
     "data": {
      "text/plain": [
       "149"
      ]
     },
     "execution_count": 142,
     "metadata": {},
     "output_type": "execute_result"
    }
   ],
   "source": [
    "len(rnet_data)"
   ]
  },
  {
   "cell_type": "code",
   "execution_count": 143,
   "metadata": {
    "collapsed": false
   },
   "outputs": [
    {
     "data": {
      "text/plain": [
       "149"
      ]
     },
     "execution_count": 143,
     "metadata": {},
     "output_type": "execute_result"
    }
   ],
   "source": [
    "len(tfidf_data)"
   ]
  },
  {
   "cell_type": "code",
   "execution_count": 144,
   "metadata": {
    "collapsed": false
   },
   "outputs": [
    {
     "data": {
      "text/plain": [
       "7"
      ]
     },
     "execution_count": 144,
     "metadata": {},
     "output_type": "execute_result"
    }
   ],
   "source": [
    "len(tfidf_data[130][2])"
   ]
  },
  {
   "cell_type": "code",
   "execution_count": 145,
   "metadata": {
    "collapsed": false
   },
   "outputs": [
    {
     "data": {
      "text/plain": [
       "('what country manufactured the helicopter?',\n",
       " 'Russia',\n",
       " [('This occurred on the first launch as the wind was not in Austria\\'s favor on July 12, 1849 The Austrians had been developing this system for 66 years, since the idea was hatched in 1783. The Presse, of Vienna, Austria, stated: \"Venice is to be bombarded by balloons, as the lagunes prevent the approaching of artillery. Five balloons, each measuring 5.7 meters in diameter, are in construction at Treviso. In a favorable wind the balloons will be launched and directed as near to Venice as possible, and on their being brought to vertical positions over the town, they will be fired by electro magnetism by means of a long isolated copper wire with a large galvanic battery placed on a building. The bomb falls perpendicularly, and explodes on reaching the ground.\" Balloons do not generally meet today\\'s definition of a UAV. Once winged aircraft had been invented, the effort to fly them unmanned for military purposes was not far behind. The first pilotless aircraft were built during and shortly after World War I. Leading the way, using A. M. Low\\'s radio control techniques, was the Ruston Proctor Aerial Target of 1916. If developed further it was to have been used against Zeppelins. Soon after, on September 12, the Hewitt-Sperry Automatic Airplane, otherwise known as the \"flying bomb\" made its first flight, demonstrating the concept of an unmanned aircraft. They were intended for use as \"aerial torpedoes\" an early version of today\\'s cruise missiles. Control was achieved using gyroscopes developed by Elmer Sperry of the Sperry Gyroscope Company. Later, in November 1917, the Automatic Airplane was flown for representatives of the US Army. This led the army to commission a project to build an \"aerial torpedo\", resulting in the Kettering Bug which first flew in 1918. While the Bug\\'s revolutionary technology was successful, it was not in time to fight in the war, which ended before it could be fully developed and deployed. The market of Unmanned Aerial Systems is one of the most dynamically developing markets in Russia and the world. According to the report of Dutch consulting firm ASD, in 2016 the market turnover of military unmanned aerial vehicles was $ 8.5 billion. The Russian market of unmanned aerial vehicle will make $ 147 million in 2016 with the potential of growth up to $ 224 million by 2020. The largest suppliers are Israel Aerospace Industries (Israel Aviation Industry, IAI) and Elbit Systems, which own up to 70% of the world market for unmanned vehicles, and 3 US corporations - AeroVironment Industries, General Atomics Aeronautical Systems and Northrop Grumman. According to the forecast by 2022, the market turnover of military unmanned vehicles will grow to $ 13.7 billion. According to the definition approved by the ICAO Assembly, an unmanned aerial vehicle (drone) is an aircraft without a pilot who is flying without an aircraft commander on board and is either completely remotely controlled from another location from the ground, from another aircraft, from space, or programmed and fully autonomous. For the first time, the civilian application of drones was announced by Amazon for the delivery of consumer goods in 2013.',\n",
       "   0.44446793),\n",
       "  ('After all, planes and helicopters need to maintain safety systems and protect pilots. Specialists managing and servicing aircraft and helicopters must undergo training, retraining, and medical commissions. The time and financial costs for drones are incommensurably lower. A significant advantage of unmanned vehicles is their patency and transport accessibility - they will reach the land areas, where to reach by land or by plane, is problematic. The speed of delivery of goods is another weighty argument \"for\". The unmanned aerial vehicle reaches a remote land site in 30 minutes, and a helicopter - for 2 hours. For manned aircraft, it is important to have a huge platform for takeoff and landing, while for a drones landing there is enough band of 500-600 meters, and miniature drones will easily land even on the steps near the threshold. UAVs economically consume fuel due to their compact dimensions, which is also an advantage. According to the Rules for the Use of the Airspace of the Russian Federation, an unmanned aerial vehicle is defined as \"an aircraft flying without a pilot (crew) on board and operated automatically in flight, by an operator from a control point or a combination of said methods.\" In early 2017, the news arose that the management of unmanned aerial vehicles was officially recognized in Russia as a profession, for the development of which it would be necessary to undergo training at special courses. Amendments to the Air Code from July 5, 2017 introduced mandatory in Russia registration of unmanned aerial vehicles (UAV) weighing from 250 grams. Registration will be carried out by the company \"ZashchitaInfo Trans\" of the Ministry of Transport of Russia. The law on compulsory registration of all unmanned aerial vehicles heavier than 250 grams was signed by Russian President Vladimir Putin on December 30, 2015, but the State Duma abolished it in 2016 due to difficulties with its implementation. Now, \"ProtectionEnterprises\" will identify UAVs with special RFID tags, through which it is possible to obtain information about the drones and its owner at distances up to 300 meters.',\n",
       "   0.44374827),\n",
       "  ('It consists of more than 700 organizations, of which currently there are 9 holding companies in the defense industrial complex and 6 in the civilian industries, as well as 32 direct management organizations. Rostekh\\'s portfolio includes such well-known brands as AVTOVAZ, KAMAZ, Kalashnikov Concern, \"Russian Helicopters\", VSMPO-AVISMA, etc. The organizations of Rostech are located in the territory of 60 subjects of the Russian Federation and supply products to the markets of more than 70 countries. Consolidated revenue of Rostech in 2016 reached 1 trillion 266 billion rubles, consolidated net profit - 88 billion rubles, and EBITDA - 268 billion rubles. The average salary for the Corporation in 2016 was 44,000 rubles. According to Rostekh\\'s new strategy, the main goal of the Corporation is to ensure Russia\\'s technological advantage in highly competitive global markets. One of Rostekh\\'s key tasks is the introduction of a new technological structure and the digitalization of the Russian economy\\n\\nMultiple terms are used for unmanned aerial vehicles, which generally refer to the same concept. The term drone, more widely used by the public, was coined in reference to the early remotely-flown target aircraft used for practice firing of a battleship\\'s guns, and the term was first used with the 1920s Fairey Queen and 1930\\'s de Havilland Queen Bee target aircraft. These two were followed in service by the similarly-named Airspeed Queen Wasp and Miles Queen Martinet, before ultimate replacement by the GAF Jindivik. The term unmanned aircraft system (UAS) was adopted by the United States Department of Defense (DoD) and the United States Federal Aviation Administration in 2005 according to their Unmanned Aircraft System Roadmap 2005–2030. The International Civil Aviation Organization (ICAO) and the British Civil Aviation Authority adopted this term, also used in the European Union\\'s Single-European-Sky (SES) Air-Traffic-Management (ATM) Research (SESAR Joint Undertaking) roadmap for 2020. This term emphasizes the importance of elements other than the aircraft. It includes elements such as ground control stations, data links and other support equipment. A similar term is an unmanned-aircraft vehicle system (UAVS), remotely piloted aerial vehicle (RPAV), remotely piloted aircraft system (RPAS) Many similar terms are in use. A UAV is defined as a \"powered, aerial vehicle that does not carry a human operator, uses aerodynamic forces to provide vehicle lift, can fly autonomously or be piloted remotely, can be expendable or recoverable, and can carry a lethal or nonlethal payload\"Therefore, missiles are not considered UAVs because the vehicle itself is a weapon that is not reused, though it is also unmanned and in some cases remotely guided. The Austrian balloons\\nThe earliest recorded use of an unmanned aerial vehicle for warfighting occurred on August 22, 1849, when the Austrians attacked the Italian city of Venice with unmanned balloons loaded with explosives known as Austrian balloons. At least some of the balloons were launched from the Austrian ship Vulcano. Although some of the balloons worked and successfully managed to bomb The Republic, others were caught in a change of wind and blown back over Austrian lines.',\n",
       "   0.42984191),\n",
       "  ('The Helicopters of Russia (part of the Rostekh state corporation) has developed a VRT300 unmanned vehicle with a maximum takeoff weight of 300 kg and a target payload of 70 kg. The first experimental apparatus will become a flying laboratory for testing all systems and equipment, including testing the interaction with the ground control complex. In 2019, it is planned to certify the device, and in 2020 - to begin commercial sales. The VRT300 has a coaxial system of screws (two 3.5-meter-wide screws rotating in opposite directions), which improves controllability and stability to wind gusts, reduces fuel consumption by hovering by 20%, this system makes the drone more compact, it allows ship-based . The VRT300 is developed in two versions: Arctic Supervision - with a side-scan radar for Arctic exploration and operation in the Arctic and Opticvision - with extended range for monitoring and remote sensing tasks. The priority tasks of the VRT300 Arctic Supervision complex are the development of the Northern Sea Route transport system, as well as assistance in the development of the Arctic. For this purpose, the complex is equipped with an onboard side-scan radar of the X-band high resolution, which allows us to quickly assess the dynamics of the ice situation. The presence of an engine on \"heavy\" fuel and the possibility of ship basing makes the Arctic version of the VRT300 irreplaceable both on icebreakers and on drilling platforms. Due to the target load of 70 kg, the complex can be used to transport various cargoes, such as products and medicines, to provide search and rescue operations and to determine the parameters of ice fields suitable for locating scientific polar stations. Complex VRT300 in the version of Opticvision is designed for the development of a system for diagnosing, preventing and eliminating emergencies in the sphere of extraction and transportation of energy resources. The Opticvision version can be in the air for up to 5 hours, travel at a speed of 180 km / h and is primarily designed for diagnosing, preventing and eliminating emergencies during the extraction and transportation of hydrocarbons. Other tasks of the complex include: diagnostics of overhead transmission lines, mapping, transportation of cargo, search operations, as well as monitoring of the ecological situation, roads and objects of roadside infrastructure. The St. Petersburg International Economic Forum is scheduled to sign a Memorandum of Cooperation between PJSC Sberbank and JSC Helicopters of Russia, within the framework of this memorandum, it is planned to establish partnerships aimed at creating a federal logistics operator using unmanned aerial systems of a helicopter type. The presented version of VRT300 is intended for collection and is one of the consequences of Sberbank\\'s partnership and Russian Helicopters. 06/16/2017 Sberbank first tested an unmanned aerial vehicle to deliver cash. The device at a speed of 180 km / h overcame a distance of 10 km from the cash center to the cash collection vehicle. Sberbank today is the largest bank in Russia and one of the largest Russian companies.',\n",
       "   0.38962576),\n",
       "  ('After that, the market began to develop rapidly, opening up new areas of commercial and private use. In addition to the manufacturers of unmanned aerial vehicles (UAVs), the distributors of such devices, component manufacturers, opticians and computer vision systems, software, cartographic services and aerial photography companies, the agricultural sector, a wide range of public services (police, ambulance, fire, emergency services), insurance and investment companies and others. Currently, Russia holds a small share in the sales of unmanned aerial vehicles on the world market, it is about 2%, but has a high potential for further growth. It should be noted that in the sales structure of the Russian market, the civil unmanned aerial vehicle accounts for more than 70% of the market, in which the main share is occupied by consumer drones. Civil unmanned aerial vehicles began to gain avalanche in popularity at the beginning of the 2010s. In 2010, the US Federal Aviation Administration (FAA) mistakenly assumed that by 2020, about 15,000 drones will be used for peaceful purposes. In a similar forecast by the FAA in 2016, this estimate was raised to 550,000. In the forecast of Business Insider, released in 2014, the market of civil unmanned aerial vehicles was estimated at $ 1 billion in 2020, but two years later this estimate was raised to 12 billion dollars. PricewaterhouseCoopers estimates the market of an unmanned aerial vehicle in 2020 at $ 127 billion. According to PwC, a large part (61%) of unmanned aerial vehicles will be used in the maintenance of infrastructure projects and in agriculture. According to the NY Times, in 2016, 2.8 million civil unmanned aerial vehicles were sold in the United States for a total of $ 953 million. The world sales amounted to 9.4 million units. Drones are used even in the zoo. Thus, in the Chinese province of Heilongjiang, the Amur tigers gained excess weight and became completely lazy. This can be a real problem for animals, because they have impaired metabolism and reduced immunity. That\\'s why it was necessary to make them move. As a coach (and an incentive for training) over an enclosure with striped predators, a drone was launched, after which the tigers are happy to hunt, which helps them to come in good physical shape. In addition, at the moment, such a direction is developing the use of an unmanned aerial vehicle, as so-called. \"Dron-racing,\" that is, races on self-assembled civil UAVs of a multi-rotor type, most often quadrocopters, mostly small, diagonal lengths between opposite motors up to 25 cm, whose capacities allow them to accelerate to 150 km / h. These races consist in the passage of a certain three-dimensional track, formed by a landscape and artificial obstacles (for example, gates), for a while or for speed, competing with other participants. World championships are held between the best pilots. It is actively developing in Russia. Analysts Gartner published the results of the study, according to which in 2017 the production of drones was 3 million units. For comparison: in 2016, 2.1 million unmanned vehicles were produced.',\n",
       "   0.38376656),\n",
       "  (\"The average annual growth rate of the market (CAGR) during the forecast period is expected at 34%. The authors of the study noted that the share of drones for industrial monitoring during this period will remain the largest - about 30%. 7% of drones will have to enter the agricultural market. For commercial delivery, due to the high costs of operations, only 1% of drones will be required. Representatives of the company Tractica predict that the revenue from the supply of drones and the provision of services will grow from $ 792 million in 2017 to $ 12.6 billion by 2025. The company's report states that most of the revenue comes from equipment sales. Then this share will shift towards services and operations. Analysts note the following key trends in the development of the market for unmanned aerial vehicles:\\n\\n• Drones are actively being introduced into segments that are now serviced by satellites and manned aircraft, while the demand for high-quality aerial survey data is increasing;\\n• The boundaries between professional and consumer drones began to narrow, and the average price for all types of devices would decline;\\n• A new fast-growing segment is developing - the market of services for geoinformation services, and developments in the field of artificial intelligence and specialized sensors will support the development of the industry of an unmanned aerial vehicle. The most noticeable advantage of modern unmanned aerial vehicles in comparison with manned aircraft is that they do not need pilots, flight control functions are almost completely transferred to automation, and the operator basically only observes the operation of on-board systems. The absence on board of the pilot makes it possible to significantly increase the flight time and reduce the overall weight of the design of the unmanned aerial vehicle. Thanks to this, it becomes possible to solve a wider range of tasks at a much lower economic cost than using manned alternatives. The absence of a man on board the UAV can remove a number of design limitations, increase operational reliability, reduce the takeoff weight and cost of both the apparatus and the entire complex as a whole. Also, the absence of a crew makes it possible to significantly expand the ranges of operational overloads and to increase the time for the task, which is limited in modern manned aircraft mainly by the physiological capabilities of its crew. The wide use of electronics makes it possible to increase the effectiveness of UAV applications in the dark and (or) in bad weather conditions, for example the presented model of unmanned aerial system can be used at any time of day and at temperatures from -40 to +50 Celsius. Unmanned aerial vehicles are difficult to classify, because they have very different characteristics. This diversity comes from the abundance of configurations and components of an unmanned aerial vehicle. Manufacturers are not limited to any standards yet. As a result, today there are no requirements on the part of aviation regulators on how an unmanned aerial vehicle should be equipped. Maintenance and maintenance of UAVs is cheaper than similar costs for manned aircraft.\",\n",
       "   0.35574973),\n",
       "  ('Sberbank accounts for 28.9% of the total banking assets of the country (as of January 1, 2018), and its active customers are 60% of the population. Sberbank is among the top 5 largest employers of Russia. The Bank is the main creditor of the Russian economy and holds the largest share in the deposit market. It accounts for 46.1% of household deposits, 40.5% of loans to individuals and 32.4% of loans to legal entities (as of January 1, 2018). Sberbank consists of 14 territorial banks and 14.2 thousand branches in the Russian Federation. The Bank\\'s foreign network consists of subsidiaries, branches and representative offices in the CIS, Central and Eastern Europe, Turkey, the United Kingdom, the United States and other countries. The number of active retail customers of Sberbank in Russia exceeds 86 million people, the number of corporate clients of the Group is more than 2 million in Russia. The range of Sberbank services for retail customers is maximally wide: from traditional deposits and various types of lending to bank cards, money transfers, bank insurance and brokerage services. The Bank serves all corporate customer groups, paying special attention to remote service channels. Online bank for legal entities, \"Sberbank Business Online\", monthly use more than 1.5 million customers - legal entities. In recent years, Sberbank has been at the forefront of technological and innovative changes in the country. We successfully transform our own technological platform and create the largest industrial IT system based on the most modern technologies. In addition, we are actively developing innovative technologies, such as artificial intelligence, machine learning, blockage, robotics and others. On the basis of Sberbank, we do not simply introduce new technologies into our business processes, but also invest in their development and popularization on a national scale. In 2017, Sberbank adopted the Development Strategy until 2020, the main goal of which is to implement initiatives that will allow the Bank to reach a new level of competitiveness, enabling it to compete with global technology companies while remaining the best bank for the population and business. Helicopters of Russia JSC (part of Rostekh State Corporation) is one of the world leaders in the helicopter industry, the only developer and manufacturer of helicopters in Russia. The holding was established in 2007. The head office is located in Moscow. The holding includes five helicopter factories, two design bureaus, as well as enterprises for the production and maintenance of components, aircraft repair plants and a service company that provides after-sales support in Russia and abroad. The buyers of the holding\\'s products are the Ministry of Defense of Russia, the Ministry of Internal Affairs of Russia, EMERCOM of Russia, other government customers, airlines Gazprom and UTair, large Russian and foreign companies. In 2016, the revenue of Russian Helicopters under IFRS amounted to 214.3 billion rubles, the volume of deliveries amounted to 189 helicopters\\n\\nState Corporation Rostekh is a Russian corporation established in 2007 to promote the development, production and export of high-tech industrial products for civilian and military use.',\n",
       "   0.26954737)])"
      ]
     },
     "execution_count": 145,
     "metadata": {},
     "output_type": "execute_result"
    }
   ],
   "source": [
    "tfhub_data[0]"
   ]
  },
  {
   "cell_type": "code",
   "execution_count": 146,
   "metadata": {
    "collapsed": false
   },
   "outputs": [
    {
     "data": {
      "text/plain": [
       "('what country manufactured the helicopter?',\n",
       " 'Russia',\n",
       " [(0.9998914003372192,\n",
       "   'Sberbank accounts for 28.9% of the total banking assets of the country (as of January 1, 2018), and its active customers are 60% of the population. Sberbank is among the top 5 largest employers of Russia. The Bank is the main creditor of the Russian economy and holds the largest share in the deposit market. It accounts for 46.1% of household deposits, 40.5% of loans to individuals and 32.4% of loans to legal entities (as of January 1, 2018). Sberbank consists of 14 territorial banks and 14.2 thousand branches in the Russian Federation. The Bank\\'s foreign network consists of subsidiaries, branches and representative offices in the CIS, Central and Eastern Europe, Turkey, the United Kingdom, the United States and other countries. The number of active retail customers of Sberbank in Russia exceeds 86 million people, the number of corporate clients of the Group is more than 2 million in Russia. The range of Sberbank services for retail customers is maximally wide: from traditional deposits and various types of lending to bank cards, money transfers, bank insurance and brokerage services. The Bank serves all corporate customer groups, paying special attention to remote service channels. Online bank for legal entities, \"Sberbank Business Online\", monthly use more than 1.5 million customers - legal entities. In recent years, Sberbank has been at the forefront of technological and innovative changes in the country. We successfully transform our own technological platform and create the largest industrial IT system based on the most modern technologies. In addition, we are actively developing innovative technologies, such as artificial intelligence, machine learning, blockage, robotics and others. On the basis of Sberbank, we do not simply introduce new technologies into our business processes, but also invest in their development and popularization on a national scale. In 2017, Sberbank adopted the Development Strategy until 2020, the main goal of which is to implement initiatives that will allow the Bank to reach a new level of competitiveness, enabling it to compete with global technology companies while remaining the best bank for the population and business. Helicopters of Russia JSC (part of Rostekh State Corporation) is one of the world leaders in the helicopter industry, the only developer and manufacturer of helicopters in Russia. The holding was established in 2007. The head office is located in Moscow. The holding includes five helicopter factories, two design bureaus, as well as enterprises for the production and maintenance of components, aircraft repair plants and a service company that provides after-sales support in Russia and abroad. The buyers of the holding\\'s products are the Ministry of Defense of Russia, the Ministry of Internal Affairs of Russia, EMERCOM of Russia, other government customers, airlines Gazprom and UTair, large Russian and foreign companies. In 2016, the revenue of Russian Helicopters under IFRS amounted to 214.3 billion rubles, the volume of deliveries amounted to 189 helicopters\\n\\nState Corporation Rostekh is a Russian corporation established in 2007 to promote the development, production and export of high-tech industrial products for civilian and military use.'),\n",
       "  (0.9998624324798584,\n",
       "   'The Helicopters of Russia (part of the Rostekh state corporation) has developed a VRT300 unmanned vehicle with a maximum takeoff weight of 300 kg and a target payload of 70 kg. The first experimental apparatus will become a flying laboratory for testing all systems and equipment, including testing the interaction with the ground control complex. In 2019, it is planned to certify the device, and in 2020 - to begin commercial sales. The VRT300 has a coaxial system of screws (two 3.5-meter-wide screws rotating in opposite directions), which improves controllability and stability to wind gusts, reduces fuel consumption by hovering by 20%, this system makes the drone more compact, it allows ship-based . The VRT300 is developed in two versions: Arctic Supervision - with a side-scan radar for Arctic exploration and operation in the Arctic and Opticvision - with extended range for monitoring and remote sensing tasks. The priority tasks of the VRT300 Arctic Supervision complex are the development of the Northern Sea Route transport system, as well as assistance in the development of the Arctic. For this purpose, the complex is equipped with an onboard side-scan radar of the X-band high resolution, which allows us to quickly assess the dynamics of the ice situation. The presence of an engine on \"heavy\" fuel and the possibility of ship basing makes the Arctic version of the VRT300 irreplaceable both on icebreakers and on drilling platforms. Due to the target load of 70 kg, the complex can be used to transport various cargoes, such as products and medicines, to provide search and rescue operations and to determine the parameters of ice fields suitable for locating scientific polar stations. Complex VRT300 in the version of Opticvision is designed for the development of a system for diagnosing, preventing and eliminating emergencies in the sphere of extraction and transportation of energy resources. The Opticvision version can be in the air for up to 5 hours, travel at a speed of 180 km / h and is primarily designed for diagnosing, preventing and eliminating emergencies during the extraction and transportation of hydrocarbons. Other tasks of the complex include: diagnostics of overhead transmission lines, mapping, transportation of cargo, search operations, as well as monitoring of the ecological situation, roads and objects of roadside infrastructure. The St. Petersburg International Economic Forum is scheduled to sign a Memorandum of Cooperation between PJSC Sberbank and JSC Helicopters of Russia, within the framework of this memorandum, it is planned to establish partnerships aimed at creating a federal logistics operator using unmanned aerial systems of a helicopter type. The presented version of VRT300 is intended for collection and is one of the consequences of Sberbank\\'s partnership and Russian Helicopters. 06/16/2017 Sberbank first tested an unmanned aerial vehicle to deliver cash. The device at a speed of 180 km / h overcame a distance of 10 km from the cash center to the cash collection vehicle. Sberbank today is the largest bank in Russia and one of the largest Russian companies.'),\n",
       "  (0.7053602933883667,\n",
       "   'After that, the market began to develop rapidly, opening up new areas of commercial and private use. In addition to the manufacturers of unmanned aerial vehicles (UAVs), the distributors of such devices, component manufacturers, opticians and computer vision systems, software, cartographic services and aerial photography companies, the agricultural sector, a wide range of public services (police, ambulance, fire, emergency services), insurance and investment companies and others. Currently, Russia holds a small share in the sales of unmanned aerial vehicles on the world market, it is about 2%, but has a high potential for further growth. It should be noted that in the sales structure of the Russian market, the civil unmanned aerial vehicle accounts for more than 70% of the market, in which the main share is occupied by consumer drones. Civil unmanned aerial vehicles began to gain avalanche in popularity at the beginning of the 2010s. In 2010, the US Federal Aviation Administration (FAA) mistakenly assumed that by 2020, about 15,000 drones will be used for peaceful purposes. In a similar forecast by the FAA in 2016, this estimate was raised to 550,000. In the forecast of Business Insider, released in 2014, the market of civil unmanned aerial vehicles was estimated at $ 1 billion in 2020, but two years later this estimate was raised to 12 billion dollars. PricewaterhouseCoopers estimates the market of an unmanned aerial vehicle in 2020 at $ 127 billion. According to PwC, a large part (61%) of unmanned aerial vehicles will be used in the maintenance of infrastructure projects and in agriculture. According to the NY Times, in 2016, 2.8 million civil unmanned aerial vehicles were sold in the United States for a total of $ 953 million. The world sales amounted to 9.4 million units. Drones are used even in the zoo. Thus, in the Chinese province of Heilongjiang, the Amur tigers gained excess weight and became completely lazy. This can be a real problem for animals, because they have impaired metabolism and reduced immunity. That\\'s why it was necessary to make them move. As a coach (and an incentive for training) over an enclosure with striped predators, a drone was launched, after which the tigers are happy to hunt, which helps them to come in good physical shape. In addition, at the moment, such a direction is developing the use of an unmanned aerial vehicle, as so-called. \"Dron-racing,\" that is, races on self-assembled civil UAVs of a multi-rotor type, most often quadrocopters, mostly small, diagonal lengths between opposite motors up to 25 cm, whose capacities allow them to accelerate to 150 km / h. These races consist in the passage of a certain three-dimensional track, formed by a landscape and artificial obstacles (for example, gates), for a while or for speed, competing with other participants. World championships are held between the best pilots. It is actively developing in Russia. Analysts Gartner published the results of the study, according to which in 2017 the production of drones was 3 million units. For comparison: in 2016, 2.1 million unmanned vehicles were produced.'),\n",
       "  (0.4430040717124939,\n",
       "   'After all, planes and helicopters need to maintain safety systems and protect pilots. Specialists managing and servicing aircraft and helicopters must undergo training, retraining, and medical commissions. The time and financial costs for drones are incommensurably lower. A significant advantage of unmanned vehicles is their patency and transport accessibility - they will reach the land areas, where to reach by land or by plane, is problematic. The speed of delivery of goods is another weighty argument \"for\". The unmanned aerial vehicle reaches a remote land site in 30 minutes, and a helicopter - for 2 hours. For manned aircraft, it is important to have a huge platform for takeoff and landing, while for a drones landing there is enough band of 500-600 meters, and miniature drones will easily land even on the steps near the threshold. UAVs economically consume fuel due to their compact dimensions, which is also an advantage. According to the Rules for the Use of the Airspace of the Russian Federation, an unmanned aerial vehicle is defined as \"an aircraft flying without a pilot (crew) on board and operated automatically in flight, by an operator from a control point or a combination of said methods.\" In early 2017, the news arose that the management of unmanned aerial vehicles was officially recognized in Russia as a profession, for the development of which it would be necessary to undergo training at special courses. Amendments to the Air Code from July 5, 2017 introduced mandatory in Russia registration of unmanned aerial vehicles (UAV) weighing from 250 grams. Registration will be carried out by the company \"ZashchitaInfo Trans\" of the Ministry of Transport of Russia. The law on compulsory registration of all unmanned aerial vehicles heavier than 250 grams was signed by Russian President Vladimir Putin on December 30, 2015, but the State Duma abolished it in 2016 due to difficulties with its implementation. Now, \"ProtectionEnterprises\" will identify UAVs with special RFID tags, through which it is possible to obtain information about the drones and its owner at distances up to 300 meters.'),\n",
       "  (0.3537498116493225,\n",
       "   'This occurred on the first launch as the wind was not in Austria\\'s favor on July 12, 1849 The Austrians had been developing this system for 66 years, since the idea was hatched in 1783. The Presse, of Vienna, Austria, stated: \"Venice is to be bombarded by balloons, as the lagunes prevent the approaching of artillery. Five balloons, each measuring 5.7 meters in diameter, are in construction at Treviso. In a favorable wind the balloons will be launched and directed as near to Venice as possible, and on their being brought to vertical positions over the town, they will be fired by electro magnetism by means of a long isolated copper wire with a large galvanic battery placed on a building. The bomb falls perpendicularly, and explodes on reaching the ground.\" Balloons do not generally meet today\\'s definition of a UAV. Once winged aircraft had been invented, the effort to fly them unmanned for military purposes was not far behind. The first pilotless aircraft were built during and shortly after World War I. Leading the way, using A. M. Low\\'s radio control techniques, was the Ruston Proctor Aerial Target of 1916. If developed further it was to have been used against Zeppelins. Soon after, on September 12, the Hewitt-Sperry Automatic Airplane, otherwise known as the \"flying bomb\" made its first flight, demonstrating the concept of an unmanned aircraft. They were intended for use as \"aerial torpedoes\" an early version of today\\'s cruise missiles. Control was achieved using gyroscopes developed by Elmer Sperry of the Sperry Gyroscope Company. Later, in November 1917, the Automatic Airplane was flown for representatives of the US Army. This led the army to commission a project to build an \"aerial torpedo\", resulting in the Kettering Bug which first flew in 1918. While the Bug\\'s revolutionary technology was successful, it was not in time to fight in the war, which ended before it could be fully developed and deployed. The market of Unmanned Aerial Systems is one of the most dynamically developing markets in Russia and the world. According to the report of Dutch consulting firm ASD, in 2016 the market turnover of military unmanned aerial vehicles was $ 8.5 billion. The Russian market of unmanned aerial vehicle will make $ 147 million in 2016 with the potential of growth up to $ 224 million by 2020. The largest suppliers are Israel Aerospace Industries (Israel Aviation Industry, IAI) and Elbit Systems, which own up to 70% of the world market for unmanned vehicles, and 3 US corporations - AeroVironment Industries, General Atomics Aeronautical Systems and Northrop Grumman. According to the forecast by 2022, the market turnover of military unmanned vehicles will grow to $ 13.7 billion. According to the definition approved by the ICAO Assembly, an unmanned aerial vehicle (drone) is an aircraft without a pilot who is flying without an aircraft commander on board and is either completely remotely controlled from another location from the ground, from another aircraft, from space, or programmed and fully autonomous. For the first time, the civilian application of drones was announced by Amazon for the delivery of consumer goods in 2013.'),\n",
       "  (0.2757117748260498,\n",
       "   'It consists of more than 700 organizations, of which currently there are 9 holding companies in the defense industrial complex and 6 in the civilian industries, as well as 32 direct management organizations. Rostekh\\'s portfolio includes such well-known brands as AVTOVAZ, KAMAZ, Kalashnikov Concern, \"Russian Helicopters\", VSMPO-AVISMA, etc. The organizations of Rostech are located in the territory of 60 subjects of the Russian Federation and supply products to the markets of more than 70 countries. Consolidated revenue of Rostech in 2016 reached 1 trillion 266 billion rubles, consolidated net profit - 88 billion rubles, and EBITDA - 268 billion rubles. The average salary for the Corporation in 2016 was 44,000 rubles. According to Rostekh\\'s new strategy, the main goal of the Corporation is to ensure Russia\\'s technological advantage in highly competitive global markets. One of Rostekh\\'s key tasks is the introduction of a new technological structure and the digitalization of the Russian economy\\n\\nMultiple terms are used for unmanned aerial vehicles, which generally refer to the same concept. The term drone, more widely used by the public, was coined in reference to the early remotely-flown target aircraft used for practice firing of a battleship\\'s guns, and the term was first used with the 1920s Fairey Queen and 1930\\'s de Havilland Queen Bee target aircraft. These two were followed in service by the similarly-named Airspeed Queen Wasp and Miles Queen Martinet, before ultimate replacement by the GAF Jindivik. The term unmanned aircraft system (UAS) was adopted by the United States Department of Defense (DoD) and the United States Federal Aviation Administration in 2005 according to their Unmanned Aircraft System Roadmap 2005–2030. The International Civil Aviation Organization (ICAO) and the British Civil Aviation Authority adopted this term, also used in the European Union\\'s Single-European-Sky (SES) Air-Traffic-Management (ATM) Research (SESAR Joint Undertaking) roadmap for 2020. This term emphasizes the importance of elements other than the aircraft. It includes elements such as ground control stations, data links and other support equipment. A similar term is an unmanned-aircraft vehicle system (UAVS), remotely piloted aerial vehicle (RPAV), remotely piloted aircraft system (RPAS) Many similar terms are in use. A UAV is defined as a \"powered, aerial vehicle that does not carry a human operator, uses aerodynamic forces to provide vehicle lift, can fly autonomously or be piloted remotely, can be expendable or recoverable, and can carry a lethal or nonlethal payload\"Therefore, missiles are not considered UAVs because the vehicle itself is a weapon that is not reused, though it is also unmanned and in some cases remotely guided. The Austrian balloons\\nThe earliest recorded use of an unmanned aerial vehicle for warfighting occurred on August 22, 1849, when the Austrians attacked the Italian city of Venice with unmanned balloons loaded with explosives known as Austrian balloons. At least some of the balloons were launched from the Austrian ship Vulcano. Although some of the balloons worked and successfully managed to bomb The Republic, others were caught in a change of wind and blown back over Austrian lines.'),\n",
       "  (0.06781119108200073,\n",
       "   \"The average annual growth rate of the market (CAGR) during the forecast period is expected at 34%. The authors of the study noted that the share of drones for industrial monitoring during this period will remain the largest - about 30%. 7% of drones will have to enter the agricultural market. For commercial delivery, due to the high costs of operations, only 1% of drones will be required. Representatives of the company Tractica predict that the revenue from the supply of drones and the provision of services will grow from $ 792 million in 2017 to $ 12.6 billion by 2025. The company's report states that most of the revenue comes from equipment sales. Then this share will shift towards services and operations. Analysts note the following key trends in the development of the market for unmanned aerial vehicles:\\n\\n• Drones are actively being introduced into segments that are now serviced by satellites and manned aircraft, while the demand for high-quality aerial survey data is increasing;\\n• The boundaries between professional and consumer drones began to narrow, and the average price for all types of devices would decline;\\n• A new fast-growing segment is developing - the market of services for geoinformation services, and developments in the field of artificial intelligence and specialized sensors will support the development of the industry of an unmanned aerial vehicle. The most noticeable advantage of modern unmanned aerial vehicles in comparison with manned aircraft is that they do not need pilots, flight control functions are almost completely transferred to automation, and the operator basically only observes the operation of on-board systems. The absence on board of the pilot makes it possible to significantly increase the flight time and reduce the overall weight of the design of the unmanned aerial vehicle. Thanks to this, it becomes possible to solve a wider range of tasks at a much lower economic cost than using manned alternatives. The absence of a man on board the UAV can remove a number of design limitations, increase operational reliability, reduce the takeoff weight and cost of both the apparatus and the entire complex as a whole. Also, the absence of a crew makes it possible to significantly expand the ranges of operational overloads and to increase the time for the task, which is limited in modern manned aircraft mainly by the physiological capabilities of its crew. The wide use of electronics makes it possible to increase the effectiveness of UAV applications in the dark and (or) in bad weather conditions, for example the presented model of unmanned aerial system can be used at any time of day and at temperatures from -40 to +50 Celsius. Unmanned aerial vehicles are difficult to classify, because they have very different characteristics. This diversity comes from the abundance of configurations and components of an unmanned aerial vehicle. Manufacturers are not limited to any standards yet. As a result, today there are no requirements on the part of aviation regulators on how an unmanned aerial vehicle should be equipped. Maintenance and maintenance of UAVs is cheaper than similar costs for manned aircraft.\")])"
      ]
     },
     "execution_count": 146,
     "metadata": {},
     "output_type": "execute_result"
    }
   ],
   "source": [
    "rnet_data[0]"
   ]
  },
  {
   "cell_type": "code",
   "execution_count": 147,
   "metadata": {
    "collapsed": false
   },
   "outputs": [
    {
     "name": "stdout",
     "output_type": "stream",
     "text": [
      "what country manufactured the helicopter?\n",
      "in which year was the helicopter created?\n",
      "weight of a drones?\n",
      "how long does the helicopter work?\n",
      "What are the dimensions of this model of unmanned helicopter?\n",
      "where you can buy?\n",
      "where you can buy a helicopter?\n",
      "where is the helicopter?\n",
      "where is it?\n",
      "What is the carrying capacity of a helicopter?\n",
      "What is the weight of the helicopter?\n",
      "What is the carrying capacity of a helicopter?\n",
      "What is the mass of the helicopter?\n",
      "What time can be in the air?\n",
      "what amount of payload is it capable of carrying?\n",
      "what is the weight of the helicopter?\n",
      "how long can the helicopter be in the air?\n",
      "how long is the helicopter capable of being in the air?\n",
      "how long is the duration of a helicopter flight?\n",
      "how much does the helicopter weigh?\n",
      "how long can a it stay in the air without moving around ?\n",
      "how many types of unmanned helicopters are there?\n",
      "how many types does it have?\n",
      "how many wings it has?\n",
      "what is the average weight of an unmanned helicopter?\n",
      "what is the benefit of it?\n",
      "what is the flight time with full battery?\n",
      "what is the function of an unmanned helicopter?\n",
      "what is the functions of this helicopter?\n",
      "what is the maximum weight you can carry?\n",
      "what is the purpose of an unmanned helicopter?\n",
      "what is the purpose of it?\n",
      "what is the weight\n",
      "what is the weight of it?\n",
      "what is the weight?\n",
      "what is the working time with full charge\n",
      "what is this helicopter for?\n",
      "what's the aim of it?\n",
      "when did the unmanned helicopter production begin?\n",
      "it can be bought somewhere?\n",
      "is there a copy of the helicopter?\n",
      "is there a copy of the helicopter model?\n",
      "Does the helicopter have a camera?\n",
      "how to control the helicopter?\n",
      "what is the name of this helicopter?\n",
      "how is the helicopter operated?\n",
      "how is the helicopter controlled?\n",
      "What is the takeoff weight of a drone?\n",
      "What is the take-off mass of an unmanned vehicle?\n",
      "what is the length of the blades of the helicopter?\n",
      "What is the mass of the helicopter?\n",
      "which company developed a drone?\n",
      "What kind of a helicopter is it?\n",
      "What is the maximum duration of a helicopter flight?\n",
      "what is the maximum speed of the helicopter?\n",
      "what is the brand of the helicopter?\n",
      "What is the mass of the helicopter?\n",
      "which model of the helicopter?\n",
      "what is the model of the helicopter in front of you?\n",
      "what is the duration of the flight?\n",
      "What powerplant helicopter?\n",
      "What is the speed of the helicopter?\n",
      "which country used it for the first time?\n",
      "what characteristics does the helicopter have?\n",
      "What are the modifications of the helicopter?\n",
      "Can a helicopter carry cargo?\n",
      "what is the scope of the helicopter?\n",
      "how long can the helicopter be in the air?\n",
      "how long is the helicopter capable of being in the air?\n",
      "how long is the duration of a helicopter flight?\n",
      "how much does the helicopter weigh?\n",
      "how much is the wingspan of the drone?\n",
      "What is the speed of the helicopter?\n",
      "What is the way to control the helicopter?\n",
      "What type of power is the helicopter?\n",
      "What are the purposes of this helicopter?\n",
      "What is an unmanned helicopter?\n",
      "What is spief?\n",
      "what is it?\n",
      "does it have any remote control?\n",
      "does it have remote control?\n",
      "does it need electricty or fuel to fly?\n",
      "how can it help to people?\n",
      "how do you control it?\n",
      "how does it fly?\n",
      "how does it work without a man?\n",
      "how fast can it fly?\n",
      "how fast can it go?\n",
      "how fast is it ?\n",
      "how is it controlled?\n",
      "how is the flight monitored?\n",
      "how long can a it stay in the air without moving around ?\n",
      "how long did it take to do this helicopter?\n",
      "how long was the construction process?\n",
      "how many types of unmanned helicopters are there?\n",
      "how many types does it have?\n",
      "how many wings it has?\n",
      "how old is it?\n",
      "is there a pilot?\n",
      "what is fuel?\n",
      "which system does vrt300 have?\n",
      "how much wide are the screws?\n",
      "how much reduces fuel consumption?\n",
      "what improves to wind gusts?\n",
      "what is the framework of this memorandum?\n",
      "who signed the agreement with sberbanks?\n",
      "what is a russian corporation established in 2007 to promote the development?\n",
      "how many organization rostekh consist?\n",
      "what does rostekh's portfolio include?\n",
      "what is the main goal of the corparation according to rostekh's?\n",
      "what is the one of rostekh's key tasks?\n",
      "what is the one of the priority tasks of the vrt300 arctic supervision complex?\n",
      "what kind of radar the complex is equipped with?\n",
      "what is the  target load of the vrt300 complex?\n",
      "what  kind of  platforms vrt300 is irreplaceable on?\n",
      "what kind of cargoes the complex can transport?\n",
      "what did sberbank first test?\n",
      "when did sberbank first test an unmanned aerial vehicle to deliver cash?\n",
      "how fast is the speed of the device?\n",
      "what distance does the device work?\n",
      "how many versions have been developed for vrt300?\n",
      "what is the first version of these?\n",
      "what is the second version of these?\n",
      "what kind of radar has arctic supervision been doing?\n",
      "what is one of the world leaders in the helicopter industry?\n",
      "when did the holding establish?\n",
      "where is the head office?\n",
      "what does the holding include?\n",
      "what is designed for the development of a system for diagnosing, preventing and eliminating emergencies in the sphere of extraction and transportation of energy resources?\n",
      "how many hours can the opticvision version stay in the air?\n",
      "what is the other task for vrt300?\n",
      "what is the travel at speed?\n",
      "what is primarily designed for ?\n",
      "What was the drone production volume in 2017?\n",
      "What was the drone production volume in 2016?\n",
      "What is the main advantage of drones?\n",
      "What is the most noticeable advantage of unmmaned aerial vehicals?\n",
      "In what daytime drones could be used?\n",
      "What is the allowed temperature for drones?\n",
      "How can we classify drones?\n",
      "Is it necessary to register unmaned aerial vehicles?\n",
      "Where should be drone registered?\n",
      "What is the benefit of unmanned vehicle?\n",
      "When was the first unmanned vehicle used?\n",
      "What was the first unmanned vehicle?\n",
      "What about market of drones?\n",
      "Who was the frist to use drones for civiian applications?\n",
      "What part of the market does the Russia take?\n",
      "How many drones will be used by 2020?\n"
     ]
    }
   ],
   "source": [
    "for item in tfidf_data:\n",
    "    print(item[0])"
   ]
  },
  {
   "cell_type": "code",
   "execution_count": 148,
   "metadata": {
    "collapsed": false
   },
   "outputs": [],
   "source": [
    "# make paragraph: id map\n",
    "\n",
    "all_pars = []\n",
    "for instance in rnet_data:\n",
    "    pars = instance[2]\n",
    "    all_pars += [p[1] for p in pars]\n",
    "\n",
    "all_pars = list(set(all_pars))"
   ]
  },
  {
   "cell_type": "code",
   "execution_count": 149,
   "metadata": {
    "collapsed": false
   },
   "outputs": [
    {
     "data": {
      "text/plain": [
       "7"
      ]
     },
     "execution_count": 149,
     "metadata": {},
     "output_type": "execute_result"
    }
   ],
   "source": [
    "len(all_pars)"
   ]
  },
  {
   "cell_type": "code",
   "execution_count": 150,
   "metadata": {
    "collapsed": true
   },
   "outputs": [],
   "source": [
    "par2id = {all_pars[i]: i for i in range(len(all_pars))}"
   ]
  },
  {
   "cell_type": "code",
   "execution_count": 151,
   "metadata": {
    "collapsed": true
   },
   "outputs": [],
   "source": [
    "id2par = {v: k for k, v in par2id.items()}"
   ]
  },
  {
   "cell_type": "code",
   "execution_count": 152,
   "metadata": {
    "collapsed": false
   },
   "outputs": [
    {
     "name": "stdout",
     "output_type": "stream",
     "text": [
      "All pars exist.\n"
     ]
    }
   ],
   "source": [
    "all_pars_tfhub = []\n",
    "for instance in tfhub_data:\n",
    "    pars = instance[2]\n",
    "    all_pars_tfhub += [p[0] for p in pars]\n",
    "\n",
    "all_pars_tfhub = list(set(all_pars_tfhub))\n",
    "\n",
    "for p in all_pars_tfhub:\n",
    "    if p not in par2id.keys():\n",
    "        print(p)\n",
    "else:\n",
    "    print('All pars exist.')"
   ]
  },
  {
   "cell_type": "code",
   "execution_count": 153,
   "metadata": {
    "collapsed": false
   },
   "outputs": [
    {
     "name": "stdout",
     "output_type": "stream",
     "text": [
      "All pars exist.\n"
     ]
    }
   ],
   "source": [
    "all_pars_tfidf = []\n",
    "for instance in tfidf_data:\n",
    "    pars = instance[2]\n",
    "    all_pars_tfidf += [p[0] for p in pars]\n",
    "\n",
    "all_pars_tfidf = list(set(all_pars_tfidf))\n",
    "\n",
    "for p in all_pars_tfidf:\n",
    "    if p not in par2id.keys():\n",
    "        print(p)\n",
    "        print('\\n')\n",
    "else:\n",
    "    print('All pars exist.')"
   ]
  },
  {
   "cell_type": "code",
   "execution_count": 154,
   "metadata": {
    "collapsed": true
   },
   "outputs": [],
   "source": [
    "all_questions = [item[0] for item in rnet_data]"
   ]
  },
  {
   "cell_type": "code",
   "execution_count": 155,
   "metadata": {
    "collapsed": false
   },
   "outputs": [
    {
     "data": {
      "text/plain": [
       "['what country manufactured the helicopter?',\n",
       " 'in which year was the helicopter created?',\n",
       " 'weight of a drones?',\n",
       " 'how long does the helicopter work?',\n",
       " 'What are the dimensions of this model of unmanned helicopter?',\n",
       " 'where you can buy?',\n",
       " 'where you can buy a helicopter?',\n",
       " 'where is the helicopter?',\n",
       " 'where is it?',\n",
       " 'What is the carrying capacity of a helicopter?',\n",
       " 'What is the weight of the helicopter?',\n",
       " 'What is the carrying capacity of a helicopter?',\n",
       " 'What is the mass of the helicopter?',\n",
       " 'What time can be in the air?',\n",
       " 'what amount of payload is it capable of carrying?',\n",
       " 'what is the weight of the helicopter?',\n",
       " 'how long can the helicopter be in the air?',\n",
       " 'how long is the helicopter capable of being in the air?',\n",
       " 'how long is the duration of a helicopter flight?',\n",
       " 'how much does the helicopter weigh?',\n",
       " 'how long can a it stay in the air without moving around ?',\n",
       " 'how many types of unmanned helicopters are there?',\n",
       " 'how many types does it have?',\n",
       " 'how many wings it has?',\n",
       " 'what is the average weight of an unmanned helicopter?',\n",
       " 'what is the benefit of it?',\n",
       " 'what is the flight time with full battery?',\n",
       " 'what is the function of an unmanned helicopter?',\n",
       " 'what is the functions of this helicopter?',\n",
       " 'what is the maximum weight you can carry?',\n",
       " 'what is the purpose of an unmanned helicopter?',\n",
       " 'what is the purpose of it?',\n",
       " 'what is the weight',\n",
       " 'what is the weight of it?',\n",
       " 'what is the weight?',\n",
       " 'what is the working time with full charge',\n",
       " 'what is this helicopter for?',\n",
       " \"what's the aim of it?\",\n",
       " 'when did the unmanned helicopter production begin?',\n",
       " 'it can be bought somewhere?',\n",
       " 'is there a copy of the helicopter?',\n",
       " 'is there a copy of the helicopter model?',\n",
       " 'Does the helicopter have a camera?',\n",
       " 'how to control the helicopter?',\n",
       " 'what is the name of this helicopter?',\n",
       " 'how is the helicopter operated?',\n",
       " 'how is the helicopter controlled?',\n",
       " 'What is the takeoff weight of a drone?',\n",
       " 'What is the take-off mass of an unmanned vehicle?',\n",
       " 'what is the length of the blades of the helicopter?',\n",
       " 'What is the mass of the helicopter?',\n",
       " 'which company developed a drone?',\n",
       " 'What kind of a helicopter is it?',\n",
       " 'What is the maximum duration of a helicopter flight?',\n",
       " 'what is the maximum speed of the helicopter?',\n",
       " 'what is the brand of the helicopter?',\n",
       " 'What is the mass of the helicopter?',\n",
       " 'which model of the helicopter?',\n",
       " 'what is the model of the helicopter in front of you?',\n",
       " 'what is the duration of the flight?',\n",
       " 'What powerplant helicopter?',\n",
       " 'What is the speed of the helicopter?',\n",
       " 'which country used it for the first time?',\n",
       " 'what characteristics does the helicopter have?',\n",
       " 'What are the modifications of the helicopter?',\n",
       " 'Can a helicopter carry cargo?',\n",
       " 'what is the scope of the helicopter?',\n",
       " 'how long can the helicopter be in the air?',\n",
       " 'how long is the helicopter capable of being in the air?',\n",
       " 'how long is the duration of a helicopter flight?',\n",
       " 'how much does the helicopter weigh?',\n",
       " 'how much is the wingspan of the drone?',\n",
       " 'What is the speed of the helicopter?',\n",
       " 'What is the way to control the helicopter?',\n",
       " 'What type of power is the helicopter?',\n",
       " 'What are the purposes of this helicopter?',\n",
       " 'What is an unmanned helicopter?',\n",
       " 'What is spief?',\n",
       " 'what is it?',\n",
       " 'does it have any remote control?',\n",
       " 'does it have remote control?',\n",
       " 'does it need electricty or fuel to fly?',\n",
       " 'how can it help to people?',\n",
       " 'how do you control it?',\n",
       " 'how does it fly?',\n",
       " 'how does it work without a man?',\n",
       " 'how fast can it fly?',\n",
       " 'how fast can it go?',\n",
       " 'how fast is it ?',\n",
       " 'how is it controlled?',\n",
       " 'how is the flight monitored?',\n",
       " 'how long can a it stay in the air without moving around ?',\n",
       " 'how long did it take to do this helicopter?',\n",
       " 'how long was the construction process?',\n",
       " 'how many types of unmanned helicopters are there?',\n",
       " 'how many types does it have?',\n",
       " 'how many wings it has?',\n",
       " 'how old is it?',\n",
       " 'is there a pilot?',\n",
       " 'what is fuel?',\n",
       " 'which system does vrt300 have?',\n",
       " 'how much wide are the screws?',\n",
       " 'how much reduces fuel consumption?',\n",
       " 'what improves to wind gusts?',\n",
       " 'what is the framework of this memorandum?',\n",
       " 'who signed the agreement with sberbanks?',\n",
       " 'what is a russian corporation established in 2007 to promote the development?',\n",
       " 'how many organization rostekh consist?',\n",
       " \"what does rostekh's portfolio include?\",\n",
       " \"what is the main goal of the corparation according to rostekh's?\",\n",
       " \"what is the one of rostekh's key tasks?\",\n",
       " 'what is the one of the priority tasks of the vrt300 arctic supervision complex?',\n",
       " 'what kind of radar the complex is equipped with?',\n",
       " 'what is the  target load of the vrt300 complex?',\n",
       " 'what  kind of  platforms vrt300 is irreplaceable on?',\n",
       " 'what kind of cargoes the complex can transport?',\n",
       " 'what did sberbank first test?',\n",
       " 'when did sberbank first test an unmanned aerial vehicle to deliver cash?',\n",
       " 'how fast is the speed of the device?',\n",
       " 'what distance does the device work?',\n",
       " 'how many versions have been developed for vrt300?',\n",
       " 'what is the first version of these?',\n",
       " 'what is the second version of these?',\n",
       " 'what kind of radar has arctic supervision been doing?',\n",
       " 'what is one of the world leaders in the helicopter industry?',\n",
       " 'when did the holding establish?',\n",
       " 'where is the head office?',\n",
       " 'what does the holding include?',\n",
       " 'what is designed for the development of a system for diagnosing, preventing and eliminating emergencies in the sphere of extraction and transportation of energy resources?',\n",
       " 'how many hours can the opticvision version stay in the air?',\n",
       " 'what is the other task for vrt300?',\n",
       " 'what is the travel at speed?',\n",
       " 'what is primarily designed for ?',\n",
       " 'What was the drone production volume in 2017?',\n",
       " 'What was the drone production volume in 2016?',\n",
       " 'What is the main advantage of drones?',\n",
       " 'What is the most noticeable advantage of unmmaned aerial vehicals?',\n",
       " 'In what daytime drones could be used?',\n",
       " 'What is the allowed temperature for drones?',\n",
       " 'How can we classify drones?',\n",
       " 'Is it necessary to register unmaned aerial vehicles?',\n",
       " 'Where should be drone registered?',\n",
       " 'What is the benefit of unmanned vehicle?',\n",
       " 'When was the first unmanned vehicle used?',\n",
       " 'What was the first unmanned vehicle?',\n",
       " 'What about market of drones?',\n",
       " 'Who was the frist to use drones for civiian applications?',\n",
       " 'What part of the market does the Russia take?',\n",
       " 'How many drones will be used by 2020?']"
      ]
     },
     "execution_count": 155,
     "metadata": {},
     "output_type": "execute_result"
    }
   ],
   "source": [
    "all_questions"
   ]
  },
  {
   "cell_type": "code",
   "execution_count": 156,
   "metadata": {
    "collapsed": false
   },
   "outputs": [],
   "source": [
    "# modify anaphopric questions\n",
    "\n",
    "# anaphora_tokens = ['it', 'this', 'these', 'they']\n",
    "# new_questions = []\n",
    "# prev_tokens = []\n",
    "# for i in range(len(all_questions)):\n",
    "#     q = all_questions[i]\n",
    "#     cur_tokens = word_tokenize(q)\n",
    "#     if (any(t in cur_tokens for t in anaphora_tokens)):\n",
    "#         if prev_tokens:\n",
    "#             new_question = ' '.join(set(cur_tokens + prev_tokens))\n",
    "#             print(new_question)\n",
    "#             new_questions.append(new_question)\n",
    "#         else:\n",
    "#             new_questions.append(all_questions[i])\n",
    "#     else:\n",
    "#         new_questions.append(all_questions[i])\n",
    "#         prev_tokens = cur_tokens\n",
    "    \n",
    "    "
   ]
  },
  {
   "cell_type": "code",
   "execution_count": 157,
   "metadata": {
    "collapsed": false
   },
   "outputs": [],
   "source": [
    "# len(new_questions)"
   ]
  },
  {
   "cell_type": "code",
   "execution_count": 158,
   "metadata": {
    "collapsed": true
   },
   "outputs": [],
   "source": [
    "all_answers = [item[1] for item in rnet_data]"
   ]
  },
  {
   "cell_type": "code",
   "execution_count": 159,
   "metadata": {
    "collapsed": false,
    "scrolled": false
   },
   "outputs": [],
   "source": [
    "\n",
    "mean_rankers_data = []\n",
    "\n",
    "for q, a in zip(all_questions, all_answers):\n",
    "#     print(q)\n",
    "    tfhub_par_scores = [item[2] for item in tfhub_data if item[0]==q][0]\n",
    "    tfhub_par_id_scores = {par2id[pair[0]]: pair[1] for pair in tfhub_par_scores}\n",
    "    rnet_par_scores = [item[2] for item in rnet_data if item[0]==q][0]\n",
    "    rnet_par_id_scores = {par2id[pair[1]]: pair[0] for pair in rnet_par_scores}\n",
    "#     tfidf_par_scores = []\n",
    "#     for item in tfidf_data:\n",
    "#         if item[0] == q:\n",
    "#             tfidf_par_scores.append(item[2])\n",
    "#     print(type(tfidf_par_scores))\n",
    "#     print(len(tfidf_par_scores))\n",
    "#     tfidf_par_scores = tfidf_par_scores[0]\n",
    "    try:\n",
    "        tfidf_par_scores = [item[2] for item in tfidf_data if item[0]==q][0]\n",
    "    except IndexError:\n",
    "        print(q, a)\n",
    "    tfidf_par_id_scores = {par2id[pair[0]]: pair[1] for pair in tfidf_par_scores}\n",
    "    \n",
    "    norm = np.linalg.norm(list(tfidf_par_id_scores.values()))\n",
    "    tfidf_par_id_scores = {k: v / norm for k, v in tfidf_par_id_scores.items()}\n",
    "    \n",
    "#     print(tfhub_par_id_scores)\n",
    "#     print(rnet_par_id_scores)\n",
    "#     print(tfidf_par_id_scores)\n",
    "    \n",
    "    idx2mean = []\n",
    "    for idx in par2id.values():\n",
    "        tfhub_score = tfhub_par_id_scores[idx]\n",
    "        rnet_score = rnet_par_id_scores[idx]\n",
    "        tfidf_score = tfidf_par_id_scores[idx]\n",
    "        \n",
    "        mean_score = np.mean([tfhub_score, rnet_score, tfidf_score])\n",
    "        idx2mean.append((idx, mean_score))\n",
    "        \n",
    "    idx2mean.sort(key=itemgetter(1))\n",
    "    idx2mean = idx2mean[::-1]\n",
    "    \n",
    "    mean_rankers_data.append((q, a, idx2mean))\n",
    "    "
   ]
  },
  {
   "cell_type": "code",
   "execution_count": 160,
   "metadata": {
    "collapsed": false
   },
   "outputs": [
    {
     "data": {
      "text/plain": [
       "'It consists of more than 700 organizations, of which currently there are 9 holding companies in the defense industrial complex and 6 in the civilian industries, as well as 32 direct management organizations. Rostekh\\'s portfolio includes such well-known brands as AVTOVAZ, KAMAZ, Kalashnikov Concern, \"Russian Helicopters\", VSMPO-AVISMA, etc. The organizations of Rostech are located in the territory of 60 subjects of the Russian Federation and supply products to the markets of more than 70 countries. Consolidated revenue of Rostech in 2016 reached 1 trillion 266 billion rubles, consolidated net profit - 88 billion rubles, and EBITDA - 268 billion rubles. The average salary for the Corporation in 2016 was 44,000 rubles. According to Rostekh\\'s new strategy, the main goal of the Corporation is to ensure Russia\\'s technological advantage in highly competitive global markets. One of Rostekh\\'s key tasks is the introduction of a new technological structure and the digitalization of the Russian economy\\n\\nMultiple terms are used for unmanned aerial vehicles, which generally refer to the same concept. The term drone, more widely used by the public, was coined in reference to the early remotely-flown target aircraft used for practice firing of a battleship\\'s guns, and the term was first used with the 1920s Fairey Queen and 1930\\'s de Havilland Queen Bee target aircraft. These two were followed in service by the similarly-named Airspeed Queen Wasp and Miles Queen Martinet, before ultimate replacement by the GAF Jindivik. The term unmanned aircraft system (UAS) was adopted by the United States Department of Defense (DoD) and the United States Federal Aviation Administration in 2005 according to their Unmanned Aircraft System Roadmap 2005–2030. The International Civil Aviation Organization (ICAO) and the British Civil Aviation Authority adopted this term, also used in the European Union\\'s Single-European-Sky (SES) Air-Traffic-Management (ATM) Research (SESAR Joint Undertaking) roadmap for 2020. This term emphasizes the importance of elements other than the aircraft. It includes elements such as ground control stations, data links and other support equipment. A similar term is an unmanned-aircraft vehicle system (UAVS), remotely piloted aerial vehicle (RPAV), remotely piloted aircraft system (RPAS) Many similar terms are in use. A UAV is defined as a \"powered, aerial vehicle that does not carry a human operator, uses aerodynamic forces to provide vehicle lift, can fly autonomously or be piloted remotely, can be expendable or recoverable, and can carry a lethal or nonlethal payload\"Therefore, missiles are not considered UAVs because the vehicle itself is a weapon that is not reused, though it is also unmanned and in some cases remotely guided. The Austrian balloons\\nThe earliest recorded use of an unmanned aerial vehicle for warfighting occurred on August 22, 1849, when the Austrians attacked the Italian city of Venice with unmanned balloons loaded with explosives known as Austrian balloons. At least some of the balloons were launched from the Austrian ship Vulcano. Although some of the balloons worked and successfully managed to bomb The Republic, others were caught in a change of wind and blown back over Austrian lines.'"
      ]
     },
     "execution_count": 160,
     "metadata": {},
     "output_type": "execute_result"
    }
   ],
   "source": [
    "id2par[2]"
   ]
  },
  {
   "cell_type": "code",
   "execution_count": 161,
   "metadata": {
    "collapsed": false
   },
   "outputs": [
    {
     "data": {
      "text/plain": [
       "('what country manufactured the helicopter?',\n",
       " 'Russia',\n",
       " [(1, 0.75124718045231109),\n",
       "  (6, 0.46900785590286209),\n",
       "  (3, 0.36306148407340483),\n",
       "  (5, 0.30725516490807009),\n",
       "  (2, 0.29254757615208421),\n",
       "  (0, 0.26609178024014268),\n",
       "  (4, 0.14120617148757411)])"
      ]
     },
     "execution_count": 161,
     "metadata": {},
     "output_type": "execute_result"
    }
   ],
   "source": [
    "mean_rankers_data[0]"
   ]
  },
  {
   "cell_type": "code",
   "execution_count": 162,
   "metadata": {
    "collapsed": false
   },
   "outputs": [],
   "source": [
    "def instance_score1(answer, texts):\n",
    "    for doc_text in texts:\n",
    "        if doc_text.find(answer) != -1:\n",
    "            return 1\n",
    "    return 0\n",
    "\n",
    "def instance_score(a, texts):\n",
    "    regex = re.compile('[%s]' % re.escape(string.punctuation))\n",
    "\n",
    "    a = regex.sub(' ', a)\n",
    "    a = re.sub(\" +\", \" \", a)\n",
    "    a = a.replace('\\n', ' ')\n",
    "    for doc_text in texts:\n",
    "        doc_text = regex.sub(' ', doc_text)\n",
    "        doc_text = re.sub(\" +\", \" \", doc_text)\n",
    "        doc_text = doc_text.replace('\\n', ' ')\n",
    "        if doc_text.find(a.strip()) != -1:\n",
    "            return 1\n",
    "    return 0"
   ]
  },
  {
   "cell_type": "code",
   "execution_count": 163,
   "metadata": {
    "collapsed": false
   },
   "outputs": [],
   "source": [
    "recall_mapping = {}\n",
    "for n in range(1, len(id2par) +1):\n",
    "    correct_answers = 0\n",
    "    for instance in mean_rankers_data:\n",
    "        top_n_ids = [pair[0] for pair in instance[2]][:n]\n",
    "        top_n_texts = [id2par[j] for j in top_n_ids]\n",
    "        top_n_texts = [text.lower() for text in top_n_texts]\n",
    "        formatted_answer = instance[1].strip().lower()\n",
    "        correct_answers += instance_score(formatted_answer, top_n_texts)\n",
    "    recall = correct_answers / len(rnet_data)\n",
    "    recall_mapping[n] = recall"
   ]
  },
  {
   "cell_type": "code",
   "execution_count": 164,
   "metadata": {
    "collapsed": false
   },
   "outputs": [
    {
     "data": {
      "text/plain": [
       "{1: 0.4966442953020134,\n",
       " 2: 0.6778523489932886,\n",
       " 3: 0.8926174496644296,\n",
       " 4: 0.9731543624161074,\n",
       " 5: 0.9865771812080537,\n",
       " 6: 0.9932885906040269,\n",
       " 7: 1.0}"
      ]
     },
     "execution_count": 164,
     "metadata": {},
     "output_type": "execute_result"
    }
   ],
   "source": [
    "recall_mapping"
   ]
  },
  {
   "cell_type": "code",
   "execution_count": 209,
   "metadata": {
    "collapsed": false
   },
   "outputs": [
    {
     "data": {
      "text/plain": [
       "40"
      ]
     },
     "execution_count": 209,
     "metadata": {},
     "output_type": "execute_result"
    }
   ],
   "source": [
    "len(rnet_data)"
   ]
  },
  {
   "cell_type": "code",
   "execution_count": null,
   "metadata": {
    "collapsed": true
   },
   "outputs": [],
   "source": []
  }
 ],
 "metadata": {
  "kernelspec": {
   "display_name": "tensorflow",
   "language": "python",
   "name": "tensorflow"
  },
  "language_info": {
   "codemirror_mode": {
    "name": "ipython",
    "version": 3
   },
   "file_extension": ".py",
   "mimetype": "text/x-python",
   "name": "python",
   "nbconvert_exporter": "python",
   "pygments_lexer": "ipython3",
   "version": "3.6.2"
  }
 },
 "nbformat": 4,
 "nbformat_minor": 2
}
