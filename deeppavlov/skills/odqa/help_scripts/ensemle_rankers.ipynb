{
 "cells": [
  {
   "cell_type": "code",
   "execution_count": 377,
   "metadata": {
    "collapsed": true
   },
   "outputs": [],
   "source": [
    "import pickle\n",
    "import json\n",
    "import numpy as np\n",
    "from operator import itemgetter\n",
    "from nltk.tokenize import word_tokenize"
   ]
  },
  {
   "cell_type": "code",
   "execution_count": 336,
   "metadata": {
    "collapsed": true
   },
   "outputs": [],
   "source": [
    "tfhub_data_path = '/home/olga/Documents/drones_paragraph_ranking.pkl'\n",
    "rnet_data_path = '/home/olga/Documents/r_net_ranker_scores.pckl'\n",
    "tfidf_data_path = '/media/olga/Data/projects/ODQA/data/PMEF/ranker1_drones_all_paragraphs.json'"
   ]
  },
  {
   "cell_type": "code",
   "execution_count": 337,
   "metadata": {
    "collapsed": true
   },
   "outputs": [],
   "source": [
    "def load_pickle(path):\n",
    "    with open(path, 'rb') as fin:\n",
    "        return pickle.load(fin)"
   ]
  },
  {
   "cell_type": "code",
   "execution_count": 338,
   "metadata": {
    "collapsed": true
   },
   "outputs": [],
   "source": [
    "def load_json(path):\n",
    "    with open(path) as fin:\n",
    "        return json.load(fin)"
   ]
  },
  {
   "cell_type": "code",
   "execution_count": 339,
   "metadata": {
    "collapsed": true
   },
   "outputs": [],
   "source": [
    "tfhub_data = load_pickle(tfhub_data_path)\n",
    "rnet_data = load_pickle(rnet_data_path)\n",
    "tfidf_data = load_json(tfidf_data_path)"
   ]
  },
  {
   "cell_type": "code",
   "execution_count": 340,
   "metadata": {
    "collapsed": false
   },
   "outputs": [
    {
     "data": {
      "text/plain": [
       "149"
      ]
     },
     "execution_count": 340,
     "metadata": {},
     "output_type": "execute_result"
    }
   ],
   "source": [
    "len(tfhub_data)"
   ]
  },
  {
   "cell_type": "code",
   "execution_count": 341,
   "metadata": {
    "collapsed": false
   },
   "outputs": [
    {
     "data": {
      "text/plain": [
       "137"
      ]
     },
     "execution_count": 341,
     "metadata": {},
     "output_type": "execute_result"
    }
   ],
   "source": [
    "len(rnet_data)"
   ]
  },
  {
   "cell_type": "code",
   "execution_count": 342,
   "metadata": {
    "collapsed": false
   },
   "outputs": [
    {
     "data": {
      "text/plain": [
       "149"
      ]
     },
     "execution_count": 342,
     "metadata": {},
     "output_type": "execute_result"
    }
   ],
   "source": [
    "len(tfidf_data)"
   ]
  },
  {
   "cell_type": "code",
   "execution_count": 343,
   "metadata": {
    "collapsed": false
   },
   "outputs": [
    {
     "data": {
      "text/plain": [
       "('what country manufactured the helicopter?',\n",
       " 'Russia',\n",
       " [('In early 2017, the news arose that the management of unmanned aerial vehicles was officially recognized in Russia as a profession, for the development of which it would be necessary to undergo training at special courses.',\n",
       "   0.56699222),\n",
       "  ('\\ufeffThe Helicopters of Russia (part of the Rostekh state corporation) has developed a VRT300 unmanned vehicle with a maximum takeoff weight of 300 kg and a target payload of 70 kg.',\n",
       "   0.56459445),\n",
       "  ('According to the definition approved by the ICAO Assembly, an unmanned aerial vehicle (drone) is an aircraft without a pilot who is flying without an aircraft commander on board and is either completely remotely controlled from another location from the ground, from another aircraft, from space, or programmed and fully autonomous.',\n",
       "   0.5570243),\n",
       "  (\"The presented version of VRT300 is intended for collection and is one of the consequences of Sberbank's partnership and Russian Helicopters.\",\n",
       "   0.55632132),\n",
       "  ('According to the Rules for the Use of the Airspace of the Russian Federation, an unmanned aerial vehicle is defined as \"an aircraft flying without a pilot (crew) on board and operated automatically in flight, by an operator from a control point or a combination of said methods.\"',\n",
       "   0.53556377),\n",
       "  ('Multiple terms are used for unmanned aerial vehicles, which generally refer to the same concept.',\n",
       "   0.53331327),\n",
       "  ('A UAV is defined as a \"powered, aerial vehicle that does not carry a human operator, uses aerodynamic forces to provide vehicle lift, can fly autonomously or be piloted remotely, can be expendable or recoverable, and can carry a lethal or nonlethal payload\"Therefore, missiles are not considered UAVs because the vehicle itself is a weapon that is not reused, though it is also unmanned and in some cases remotely guided.',\n",
       "   0.5204221),\n",
       "  ('Currently, Russia holds a small share in the sales of unmanned aerial vehicles on the world market, it is about 2%, but has a high potential for further growth. It should be noted that in the sales structure of the Russian market, the civil unmanned aerial vehicle accounts for more than 70% of the market, in which the main share is occupied by consumer drones.',\n",
       "   0.50481677),\n",
       "  ('Amendments to the Air Code from July 5, 2017 introduced mandatory in Russia registration of unmanned aerial vehicles (UAV) weighing from 250 grams.',\n",
       "   0.49916828),\n",
       "  ('According to the report of Dutch consulting firm ASD, in 2016 the market turnover of military unmanned aerial vehicles was $ 8.5 billion. The Russian market of unmanned aerial vehicle will make $ 147 million in 2016 with the potential of growth up to $ 224 million by 2020.',\n",
       "   0.49723706),\n",
       "  ('The St. Petersburg International Economic Forum is scheduled to sign a Memorandum of Cooperation between PJSC Sberbank and JSC Helicopters of Russia, within the framework of this memorandum, it is planned to establish partnerships aimed at creating a federal logistics operator using unmanned aerial systems of a helicopter type.',\n",
       "   0.4951393),\n",
       "  ('Civil unmanned aerial vehicles began to gain avalanche in popularity at the beginning of the 2010s. In 2010, the US Federal Aviation Administration (FAA) mistakenly assumed that by 2020, about 15,000 drones will be used for peaceful purposes. In a similar forecast by the FAA in 2016, this estimate was raised to 550,000. In the forecast of Business Insider, released in 2014, the market of civil unmanned aerial vehicles was estimated at $ 1 billion in 2020, but two years later this estimate was raised to 12 billion dollars.',\n",
       "   0.48519427),\n",
       "  ('Unmanned aerial vehicles are difficult to classify, because they have very different characteristics. This diversity comes from the abundance of configurations and components of an unmanned aerial vehicle. Manufacturers are not limited to any standards yet. As a result, today there are no requirements on the part of aviation regulators on how an unmanned aerial vehicle should be equipped.',\n",
       "   0.48419067),\n",
       "  ('The first pilotless aircraft were built during and shortly after World War I. Leading the way, using A. M. Low\\'s radio control techniques, was the Ruston Proctor Aerial Target of 1916. If developed further it was to have been used against Zeppelins. Soon after, on September 12, the Hewitt-Sperry Automatic Airplane, otherwise known as the \"flying bomb\" made its first flight, demonstrating the concept of an unmanned aircraft. They were intended for use as \"aerial torpedoes\" an early version of today\\'s cruise missiles. Control was achieved using gyroscopes developed by Elmer Sperry of the Sperry Gyroscope Company.',\n",
       "   0.48251721),\n",
       "  ('Later, in November 1917, the Automatic Airplane was flown for representatives of the US Army. This led the army to commission a project to build an \"aerial torpedo\", resulting in the Kettering Bug which first flew in 1918. While the Bug\\'s revolutionary technology was successful, it was not in time to fight in the war, which ended before it could be fully developed and deployed.',\n",
       "   0.48052132),\n",
       "  ('Analysts note the following key trends in the development of the market for unmanned aerial vehicles:',\n",
       "   0.4768568),\n",
       "  ('PricewaterhouseCoopers estimates the market of an unmanned aerial vehicle in 2020 at $ 127 billion. According to PwC, a large part (61%) of unmanned aerial vehicles will be used in the maintenance of infrastructure projects and in agriculture.',\n",
       "   0.47148728),\n",
       "  (\"The term unmanned aircraft system (UAS) was adopted by the United States Department of Defense (DoD) and the United States Federal Aviation Administration in 2005 according to their Unmanned Aircraft System Roadmap 2005–2030. The International Civil Aviation Organization (ICAO) and the British Civil Aviation Authority adopted this term, also used in the European Union's Single-European-Sky (SES) Air-Traffic-Management (ATM) Research (SESAR Joint Undertaking) roadmap for 2020. This term emphasizes the importance of elements other than the aircraft. It includes elements such as ground control stations, data links and other support equipment. A similar term is an unmanned-aircraft vehicle system (UAVS), remotely piloted aerial vehicle (RPAV), remotely piloted aircraft system (RPAS) Many similar terms are in use.\",\n",
       "   0.46625265),\n",
       "  ('The largest suppliers are Israel Aerospace Industries (Israel Aviation Industry, IAI) and Elbit Systems, which own up to 70% of the world market for unmanned vehicles, and 3 US corporations - AeroVironment Industries, General Atomics Aeronautical Systems and Northrop Grumman.',\n",
       "   0.46530044),\n",
       "  ('The market of Unmanned Aerial Systems is one of the most dynamically developing markets in Russia and the world.',\n",
       "   0.45401925),\n",
       "  (\"The buyers of the holding's products are the Ministry of Defense of Russia, the Ministry of Internal Affairs of Russia, EMERCOM of Russia, other government customers, airlines Gazprom and UTair, large Russian and foreign companies. In 2016, the revenue of Russian Helicopters under IFRS amounted to 214.3 billion rubles, the volume of deliveries amounted to 189 helicopters\",\n",
       "   0.45095825),\n",
       "  ('Helicopters of Russia JSC (part of Rostekh State Corporation) is one of the world leaders in the helicopter industry, the only developer and manufacturer of helicopters in Russia. The holding was established in 2007. The head office is located in Moscow. The holding includes five helicopter factories, two design bureaus, as well as enterprises for the production and maintenance of components, aircraft repair plants and a service company that provides after-sales support in Russia and abroad.',\n",
       "   0.44866699),\n",
       "  (\"The term drone, more widely used by the public, was coined in reference to the early remotely-flown target aircraft used for practice firing of a battleship's guns, and the term was first used with the 1920s Fairey Queen and 1930's de Havilland Queen Bee target aircraft. These two were followed in service by the similarly-named Airspeed Queen Wasp and Miles Queen Martinet, before ultimate replacement by the GAF Jindivik.\",\n",
       "   0.44798833),\n",
       "  ('Registration will be carried out by the company \"ZashchitaInfo Trans\" of the Ministry of Transport of Russia.',\n",
       "   0.44354504),\n",
       "  ('Maintenance and maintenance of UAVs is cheaper than similar costs for manned aircraft. After all, planes and helicopters need to maintain safety systems and protect pilots. Specialists managing and servicing aircraft and helicopters must undergo training, retraining, and medical commissions. The time and financial costs for drones are incommensurably lower.',\n",
       "   0.44037396),\n",
       "  ('06/16/2017 Sberbank first tested an unmanned aerial vehicle to deliver cash. The device at a speed of 180 km / h overcame a distance of 10 km from the cash center to the cash collection vehicle.',\n",
       "   0.43512589),\n",
       "  ('• Drones are actively being introduced into segments that are now serviced by satellites and manned aircraft, while the demand for high-quality aerial survey data is increasing;',\n",
       "   0.43230277),\n",
       "  ('According to the forecast by 2022, the market turnover of military unmanned vehicles will grow to $ 13.7 billion.',\n",
       "   0.42933506),\n",
       "  ('For manned aircraft, it is important to have a huge platform for takeoff and landing, while for a drones landing there is enough band of 500-600 meters, and miniature drones will easily land even on the steps near the threshold. UAVs economically consume fuel due to their compact dimensions, which is also an advantage.',\n",
       "   0.42695826),\n",
       "  ('According to the NY Times, in 2016, 2.8 million civil unmanned aerial vehicles were sold in the United States for a total of $ 953 million. The world sales amounted to 9.4 million units.',\n",
       "   0.42405859),\n",
       "  ('State Corporation Rostekh is a Russian corporation established in 2007 to promote the development, production and export of high-tech industrial products for civilian and military use. It consists of more than 700 organizations, of which currently there are 9 holding companies in the defense industrial complex and 6 in the civilian industries, as well as 32 direct management organizations. Rostekh\\'s portfolio includes such well-known brands as AVTOVAZ, KAMAZ, Kalashnikov Concern, \"Russian Helicopters\", VSMPO-AVISMA, etc.',\n",
       "   0.4217101),\n",
       "  ('The law on compulsory registration of all unmanned aerial vehicles heavier than 250 grams was signed by Russian President Vladimir Putin on December 30, 2015, but the State Duma abolished it in 2016 due to difficulties with its implementation.',\n",
       "   0.41233438),\n",
       "  ('The priority tasks of the VRT300 Arctic Supervision complex are the development of the Northern Sea Route transport system, as well as assistance in the development of the Arctic. For this purpose, the complex is equipped with an onboard side-scan radar of the X-band high resolution, which allows us to quickly assess the dynamics of the ice situation. The presence of an engine on \"heavy\" fuel and the possibility of ship basing makes the Arctic version of the VRT300 irreplaceable both on icebreakers and on drilling platforms.',\n",
       "   0.41107443),\n",
       "  ('Now, \"ProtectionEnterprises\" will identify UAVs with special RFID tags, through which it is possible to obtain information about the drones and its owner at distances up to 300 meters.',\n",
       "   0.41085303),\n",
       "  ('The earliest recorded use of an unmanned aerial vehicle for warfighting occurred on August 22, 1849, when the Austrians attacked the Italian city of Venice with unmanned balloons loaded with explosives known as Austrian balloons. At least some of the balloons were launched from the Austrian ship Vulcano. Although some of the balloons worked and successfully managed to bomb The Republic, others were caught in a change of wind and blown back over Austrian lines. This occurred on the first launch as the wind was not in Austria\\'s favor on July 12, 1849 The Austrians had been developing this system for 66 years, since the idea was hatched in 1783. The Presse, of Vienna, Austria, stated: \"Venice is to be bombarded by balloons, as the lagunes prevent the approaching of artillery. Five balloons, each measuring 5.7 meters in diameter, are in construction at Treviso. In a favorable wind the balloons will be launched and directed as near to Venice as possible, and on their being brought to vertical positions over the town, they will be fired by electro magnetism by means of a long isolated copper wire with a large galvanic battery placed on a building. The bomb falls perpendicularly, and explodes on reaching the ground.\" Balloons do not generally meet today\\'s definition of a UAV. Once winged aircraft had been invented, the effort to fly them unmanned for military purposes was not far behind.',\n",
       "   0.40618166),\n",
       "  ('A significant advantage of unmanned vehicles is their patency and transport accessibility - they will reach the land areas, where to reach by land or by plane, is problematic. The speed of delivery of goods is another weighty argument \"for\". The unmanned aerial vehicle reaches a remote land site in 30 minutes, and a helicopter - for 2 hours.',\n",
       "   0.39549971),\n",
       "  ('The absence of a man on board the UAV can remove a number of design limitations, increase operational reliability, reduce the takeoff weight and cost of both the apparatus and the entire complex as a whole. Also, the absence of a crew makes it possible to significantly expand the ranges of operational overloads and to increase the time for the task, which is limited in modern manned aircraft mainly by the physiological capabilities of its crew.',\n",
       "   0.38449979),\n",
       "  ('• A new fast-growing segment is developing - the market of services for geoinformation services, and developments in the field of artificial intelligence and specialized sensors will support the development of the industry of an unmanned aerial vehicle.',\n",
       "   0.38346875),\n",
       "  ('In addition, at the moment, such a direction is developing the use of an unmanned aerial vehicle, as so-called. \"Dron-racing,\" that is, races on self-assembled civil UAVs of a multi-rotor type, most often quadrocopters, mostly small, diagonal lengths between opposite motors up to 25 cm, whose capacities allow them to accelerate to 150 km / h. These races consist in the passage of a certain three-dimensional track, formed by a landscape and artificial obstacles (for example, gates), for a while or for speed, competing with other participants. World championships are held between the best pilots. It is actively developing in Russia.',\n",
       "   0.38050243),\n",
       "  ('Due to the target load of 70 kg, the complex can be used to transport various cargoes, such as products and medicines, to provide search and rescue operations and to determine the parameters of ice fields suitable for locating scientific polar stations.',\n",
       "   0.37233609),\n",
       "  ('For the first time, the civilian application of drones was announced by Amazon for the delivery of consumer goods in 2013. After that, the market began to develop rapidly, opening up new areas of commercial and private use. In addition to the manufacturers of unmanned aerial vehicles (UAVs), the distributors of such devices, component manufacturers, opticians and computer vision systems, software, cartographic services and aerial photography companies, the agricultural sector, a wide range of public services (police, ambulance, fire, emergency services), insurance and investment companies and others.',\n",
       "   0.36944684),\n",
       "  ('The most noticeable advantage of modern unmanned aerial vehicles in comparison with manned aircraft is that they do not need pilots, flight control functions are almost completely transferred to automation, and the operator basically only observes the operation of on-board systems. The absence on board of the pilot makes it possible to significantly increase the flight time and reduce the overall weight of the design of the unmanned aerial vehicle. Thanks to this, it becomes possible to solve a wider range of tasks at a much lower economic cost than using manned alternatives.',\n",
       "   0.35938501),\n",
       "  ('The VRT300 has a coaxial system of screws (two 3.5-meter-wide screws rotating in opposite directions), which improves controllability and stability to wind gusts, reduces fuel consumption by hovering by 20%, this system makes the drone more compact, it allows ship-based .',\n",
       "   0.35414168),\n",
       "  ('The first experimental apparatus will become a flying laboratory for testing all systems and equipment, including testing the interaction with the ground control complex.',\n",
       "   0.34168065),\n",
       "  ('The VRT300 is developed in two versions: Arctic Supervision - with a side-scan radar for Arctic exploration and operation in the Arctic and Opticvision - with extended range for monitoring and remote sensing tasks.',\n",
       "   0.33373126),\n",
       "  ('Analysts Gartner published the results of the study, according to which in 2017 the production of drones was 3 million units. For comparison: in 2016, 2.1 million unmanned vehicles were produced. The average annual growth rate of the market (CAGR) during the forecast period is expected at 34%. The authors of the study noted that the share of drones for industrial monitoring during this period will remain the largest - about 30%. 7% of drones will have to enter the agricultural market. For commercial delivery, due to the high costs of operations, only 1% of drones will be required.',\n",
       "   0.32851309),\n",
       "  (\"The organizations of Rostech are located in the territory of 60 subjects of the Russian Federation and supply products to the markets of more than 70 countries. Consolidated revenue of Rostech in 2016 reached 1 trillion 266 billion rubles, consolidated net profit - 88 billion rubles, and EBITDA - 268 billion rubles. The average salary for the Corporation in 2016 was 44,000 rubles. According to Rostekh's new strategy, the main goal of the Corporation is to ensure Russia's technological advantage in highly competitive global markets. One of Rostekh's key tasks is the introduction of a new technological structure and the digitalization of the Russian economy\",\n",
       "   0.30099812),\n",
       "  ('Complex VRT300 in the version of Opticvision is designed for the development of a system for diagnosing, preventing and eliminating emergencies in the sphere of extraction and transportation of energy resources. The Opticvision version can be in the air for up to 5 hours, travel at a speed of 180 km / h and is primarily designed for diagnosing, preventing and eliminating emergencies during the extraction and transportation of hydrocarbons. Other tasks of the complex include: diagnostics of overhead transmission lines, mapping, transportation of cargo, search operations, as well as monitoring of the ecological situation, roads and objects of roadside infrastructure.',\n",
       "   0.30072534),\n",
       "  ('The wide use of electronics makes it possible to increase the effectiveness of UAV applications in the dark and (or) in bad weather conditions, for example the presented model of unmanned aerial system can be used at any time of day and at temperatures from -40 to +50 Celsius.',\n",
       "   0.28810766),\n",
       "  ('In 2019, it is planned to certify the device, and in 2020 - to begin commercial sales.',\n",
       "   0.25507107),\n",
       "  (\"Representatives of the company Tractica predict that the revenue from the supply of drones and the provision of services will grow from $ 792 million in 2017 to $ 12.6 billion by 2025. The company's report states that most of the revenue comes from equipment sales. Then this share will shift towards services and operations.\",\n",
       "   0.24693269),\n",
       "  ('In recent years, Sberbank has been at the forefront of technological and innovative changes in the country. We successfully transform our own technological platform and create the largest industrial IT system based on the most modern technologies. In addition, we are actively developing innovative technologies, such as artificial intelligence, machine learning, blockage, robotics and others. On the basis of Sberbank, we do not simply introduce new technologies into our business processes, but also invest in their development and popularization on a national scale.',\n",
       "   0.23563902),\n",
       "  ('Sberbank today is the largest bank in Russia and one of the largest Russian companies. Sberbank accounts for 28.9% of the total banking assets of the country (as of January 1, 2018), and its active customers are 60% of the population. Sberbank is among the top 5 largest employers of Russia. The Bank is the main creditor of the Russian economy and holds the largest share in the deposit market. It accounts for 46.1% of household deposits, 40.5% of loans to individuals and 32.4% of loans to legal entities (as of January 1, 2018). Sberbank consists of 14 territorial banks and 14.2 thousand branches in the Russian Federation.',\n",
       "   0.23290873),\n",
       "  ('In 2017, Sberbank adopted the Development Strategy until 2020, the main goal of which is to implement initiatives that will allow the Bank to reach a new level of competitiveness, enabling it to compete with global technology companies while remaining the best bank for the population and business.',\n",
       "   0.21808383),\n",
       "  ('• The boundaries between professional and consumer drones began to narrow, and the average price for all types of devices would decline;',\n",
       "   0.20626707),\n",
       "  (\"Drones are used even in the zoo. Thus, in the Chinese province of Heilongjiang, the Amur tigers gained excess weight and became completely lazy. This can be a real problem for animals, because they have impaired metabolism and reduced immunity. That's why it was necessary to make them move. As a coach (and an incentive for training) over an enclosure with striped predators, a drone was launched, after which the tigers are happy to hunt, which helps them to come in good physical shape.\",\n",
       "   0.18862881),\n",
       "  (\"The Bank's foreign network consists of subsidiaries, branches and representative offices in the CIS, Central and Eastern Europe, Turkey, the United Kingdom, the United States and other countries. The number of active retail customers of Sberbank in Russia exceeds 86 million people, the number of corporate clients of the Group is more than 2 million in Russia. The range of Sberbank services for retail customers is maximally wide: from traditional deposits and various types of lending to bank cards, money transfers, bank insurance and brokerage services. The Bank serves all corporate customer groups, paying special attention to remote service channels.\",\n",
       "   0.18267113),\n",
       "  ('Online bank for legal entities, \"Sberbank Business Online\", monthly use more than 1.5 million customers - legal entities.',\n",
       "   0.043237675)])"
      ]
     },
     "execution_count": 343,
     "metadata": {},
     "output_type": "execute_result"
    }
   ],
   "source": [
    "tfhub_data[0]"
   ]
  },
  {
   "cell_type": "code",
   "execution_count": 344,
   "metadata": {
    "collapsed": false
   },
   "outputs": [
    {
     "data": {
      "text/plain": [
       "('what country manufactured the helicopter?',\n",
       " 'Russia',\n",
       " [(0.9978230595588684,\n",
       "   'Helicopters of Russia JSC (part of Rostekh State Corporation) is one of the world leaders in the helicopter industry, the only developer and manufacturer of helicopters in Russia. The holding was established in 2007. The head office is located in Moscow. The holding includes five helicopter factories, two design bureaus, as well as enterprises for the production and maintenance of components, aircraft repair plants and a service company that provides after-sales support in Russia and abroad.'),\n",
       "  (0.8298145532608032,\n",
       "   'The St. Petersburg International Economic Forum is scheduled to sign a Memorandum of Cooperation between PJSC Sberbank and JSC Helicopters of Russia, within the framework of this memorandum, it is planned to establish partnerships aimed at creating a federal logistics operator using unmanned aerial systems of a helicopter type.'),\n",
       "  (0.792402982711792,\n",
       "   \"The Bank's foreign network consists of subsidiaries, branches and representative offices in the CIS, Central and Eastern Europe, Turkey, the United Kingdom, the United States and other countries. The number of active retail customers of Sberbank in Russia exceeds 86 million people, the number of corporate clients of the Group is more than 2 million in Russia. The range of Sberbank services for retail customers is maximally wide: from traditional deposits and various types of lending to bank cards, money transfers, bank insurance and brokerage services. The Bank serves all corporate customer groups, paying special attention to remote service channels.\"),\n",
       "  (0.6520987153053284,\n",
       "   'The earliest recorded use of an unmanned aerial vehicle for warfighting occurred on August 22, 1849, when the Austrians attacked the Italian city of Venice with unmanned balloons loaded with explosives known as Austrian balloons. At least some of the balloons were launched from the Austrian ship Vulcano. Although some of the balloons worked and successfully managed to bomb The Republic, others were caught in a change of wind and blown back over Austrian lines. This occurred on the first launch as the wind was not in Austria\\'s favor on July 12, 1849 The Austrians had been developing this system for 66 years, since the idea was hatched in 1783. The Presse, of Vienna, Austria, stated: \"Venice is to be bombarded by balloons, as the lagunes prevent the approaching of artillery. Five balloons, each measuring 5.7 meters in diameter, are in construction at Treviso. In a favorable wind the balloons will be launched and directed as near to Venice as possible, and on their being brought to vertical positions over the town, they will be fired by electro magnetism by means of a long isolated copper wire with a large galvanic battery placed on a building. The bomb falls perpendicularly, and explodes on reaching the ground.\" Balloons do not generally meet today\\'s definition of a UAV. Once winged aircraft had been invented, the effort to fly them unmanned for military purposes was not far behind.'),\n",
       "  (0.5404272675514221,\n",
       "   \"The buyers of the holding's products are the Ministry of Defense of Russia, the Ministry of Internal Affairs of Russia, EMERCOM of Russia, other government customers, airlines Gazprom and UTair, large Russian and foreign companies. In 2016, the revenue of Russian Helicopters under IFRS amounted to 214.3 billion rubles, the volume of deliveries amounted to 189 helicopters\"),\n",
       "  (0.5054103136062622,\n",
       "   'In addition, at the moment, such a direction is developing the use of an unmanned aerial vehicle, as so-called. \"Dron-racing,\" that is, races on self-assembled civil UAVs of a multi-rotor type, most often quadrocopters, mostly small, diagonal lengths between opposite motors up to 25 cm, whose capacities allow them to accelerate to 150 km / h. These races consist in the passage of a certain three-dimensional track, formed by a landscape and artificial obstacles (for example, gates), for a while or for speed, competing with other participants. World championships are held between the best pilots. It is actively developing in Russia.'),\n",
       "  (0.46909356117248535,\n",
       "   \"The term unmanned aircraft system (UAS) was adopted by the United States Department of Defense (DoD) and the United States Federal Aviation Administration in 2005 according to their Unmanned Aircraft System Roadmap 2005–2030. The International Civil Aviation Organization (ICAO) and the British Civil Aviation Authority adopted this term, also used in the European Union's Single-European-Sky (SES) Air-Traffic-Management (ATM) Research (SESAR Joint Undertaking) roadmap for 2020. This term emphasizes the importance of elements other than the aircraft. It includes elements such as ground control stations, data links and other support equipment. A similar term is an unmanned-aircraft vehicle system (UAVS), remotely piloted aerial vehicle (RPAV), remotely piloted aircraft system (RPAS) Many similar terms are in use.\"),\n",
       "  (0.3784480690956116,\n",
       "   '\\ufeffThe Helicopters of Russia (part of the Rostekh state corporation) has developed a VRT300 unmanned vehicle with a maximum takeoff weight of 300 kg and a target payload of 70 kg.'),\n",
       "  (0.31235915422439575,\n",
       "   'Sberbank today is the largest bank in Russia and one of the largest Russian companies. Sberbank accounts for 28.9% of the total banking assets of the country (as of January 1, 2018), and its active customers are 60% of the population. Sberbank is among the top 5 largest employers of Russia. The Bank is the main creditor of the Russian economy and holds the largest share in the deposit market. It accounts for 46.1% of household deposits, 40.5% of loans to individuals and 32.4% of loans to legal entities (as of January 1, 2018). Sberbank consists of 14 territorial banks and 14.2 thousand branches in the Russian Federation.'),\n",
       "  (0.23692411184310913,\n",
       "   'State Corporation Rostekh is a Russian corporation established in 2007 to promote the development, production and export of high-tech industrial products for civilian and military use. It consists of more than 700 organizations, of which currently there are 9 holding companies in the defense industrial complex and 6 in the civilian industries, as well as 32 direct management organizations. Rostekh\\'s portfolio includes such well-known brands as AVTOVAZ, KAMAZ, Kalashnikov Concern, \"Russian Helicopters\", VSMPO-AVISMA, etc.'),\n",
       "  (0.13258296251296997,\n",
       "   \"The organizations of Rostech are located in the territory of 60 subjects of the Russian Federation and supply products to the markets of more than 70 countries. Consolidated revenue of Rostech in 2016 reached 1 trillion 266 billion rubles, consolidated net profit - 88 billion rubles, and EBITDA - 268 billion rubles. The average salary for the Corporation in 2016 was 44,000 rubles. According to Rostekh's new strategy, the main goal of the Corporation is to ensure Russia's technological advantage in highly competitive global markets. One of Rostekh's key tasks is the introduction of a new technological structure and the digitalization of the Russian economy\"),\n",
       "  (0.09660440683364868,\n",
       "   'Currently, Russia holds a small share in the sales of unmanned aerial vehicles on the world market, it is about 2%, but has a high potential for further growth. It should be noted that in the sales structure of the Russian market, the civil unmanned aerial vehicle accounts for more than 70% of the market, in which the main share is occupied by consumer drones.'),\n",
       "  (0.08562427759170532,\n",
       "   \"Drones are used even in the zoo. Thus, in the Chinese province of Heilongjiang, the Amur tigers gained excess weight and became completely lazy. This can be a real problem for animals, because they have impaired metabolism and reduced immunity. That's why it was necessary to make them move. As a coach (and an incentive for training) over an enclosure with striped predators, a drone was launched, after which the tigers are happy to hunt, which helps them to come in good physical shape.\"),\n",
       "  (0.08536940813064575,\n",
       "   'The largest suppliers are Israel Aerospace Industries (Israel Aviation Industry, IAI) and Elbit Systems, which own up to 70% of the world market for unmanned vehicles, and 3 US corporations - AeroVironment Industries, General Atomics Aeronautical Systems and Northrop Grumman.'),\n",
       "  (0.06581467390060425,\n",
       "   'For the first time, the civilian application of drones was announced by Amazon for the delivery of consumer goods in 2013. After that, the market began to develop rapidly, opening up new areas of commercial and private use. In addition to the manufacturers of unmanned aerial vehicles (UAVs), the distributors of such devices, component manufacturers, opticians and computer vision systems, software, cartographic services and aerial photography companies, the agricultural sector, a wide range of public services (police, ambulance, fire, emergency services), insurance and investment companies and others.'),\n",
       "  (0.050048768520355225,\n",
       "   'In early 2017, the news arose that the management of unmanned aerial vehicles was officially recognized in Russia as a profession, for the development of which it would be necessary to undergo training at special courses.'),\n",
       "  (0.04360312223434448,\n",
       "   'According to the report of Dutch consulting firm ASD, in 2016 the market turnover of military unmanned aerial vehicles was $ 8.5 billion. The Russian market of unmanned aerial vehicle will make $ 147 million in 2016 with the potential of growth up to $ 224 million by 2020.'),\n",
       "  (0.040952205657958984,\n",
       "   'Later, in November 1917, the Automatic Airplane was flown for representatives of the US Army. This led the army to commission a project to build an \"aerial torpedo\", resulting in the Kettering Bug which first flew in 1918. While the Bug\\'s revolutionary technology was successful, it was not in time to fight in the war, which ended before it could be fully developed and deployed.'),\n",
       "  (0.0190047025680542,\n",
       "   \"The presented version of VRT300 is intended for collection and is one of the consequences of Sberbank's partnership and Russian Helicopters.\"),\n",
       "  (0.017626643180847168,\n",
       "   'According to the NY Times, in 2016, 2.8 million civil unmanned aerial vehicles were sold in the United States for a total of $ 953 million. The world sales amounted to 9.4 million units.'),\n",
       "  (0.016122877597808838,\n",
       "   'Civil unmanned aerial vehicles began to gain avalanche in popularity at the beginning of the 2010s. In 2010, the US Federal Aviation Administration (FAA) mistakenly assumed that by 2020, about 15,000 drones will be used for peaceful purposes. In a similar forecast by the FAA in 2016, this estimate was raised to 550,000. In the forecast of Business Insider, released in 2014, the market of civil unmanned aerial vehicles was estimated at $ 1 billion in 2020, but two years later this estimate was raised to 12 billion dollars.'),\n",
       "  (0.014511644840240479,\n",
       "   'Complex VRT300 in the version of Opticvision is designed for the development of a system for diagnosing, preventing and eliminating emergencies in the sphere of extraction and transportation of energy resources. The Opticvision version can be in the air for up to 5 hours, travel at a speed of 180 km / h and is primarily designed for diagnosing, preventing and eliminating emergencies during the extraction and transportation of hydrocarbons. Other tasks of the complex include: diagnostics of overhead transmission lines, mapping, transportation of cargo, search operations, as well as monitoring of the ecological situation, roads and objects of roadside infrastructure.'),\n",
       "  (0.01380014419555664,\n",
       "   'The first pilotless aircraft were built during and shortly after World War I. Leading the way, using A. M. Low\\'s radio control techniques, was the Ruston Proctor Aerial Target of 1916. If developed further it was to have been used against Zeppelins. Soon after, on September 12, the Hewitt-Sperry Automatic Airplane, otherwise known as the \"flying bomb\" made its first flight, demonstrating the concept of an unmanned aircraft. They were intended for use as \"aerial torpedoes\" an early version of today\\'s cruise missiles. Control was achieved using gyroscopes developed by Elmer Sperry of the Sperry Gyroscope Company.'),\n",
       "  (0.012168467044830322,\n",
       "   'In recent years, Sberbank has been at the forefront of technological and innovative changes in the country. We successfully transform our own technological platform and create the largest industrial IT system based on the most modern technologies. In addition, we are actively developing innovative technologies, such as artificial intelligence, machine learning, blockage, robotics and others. On the basis of Sberbank, we do not simply introduce new technologies into our business processes, but also invest in their development and popularization on a national scale.'),\n",
       "  (0.01035243272781372,\n",
       "   'The priority tasks of the VRT300 Arctic Supervision complex are the development of the Northern Sea Route transport system, as well as assistance in the development of the Arctic. For this purpose, the complex is equipped with an onboard side-scan radar of the X-band high resolution, which allows us to quickly assess the dynamics of the ice situation. The presence of an engine on \"heavy\" fuel and the possibility of ship basing makes the Arctic version of the VRT300 irreplaceable both on icebreakers and on drilling platforms.'),\n",
       "  (0.009443342685699463,\n",
       "   'A significant advantage of unmanned vehicles is their patency and transport accessibility - they will reach the land areas, where to reach by land or by plane, is problematic. The speed of delivery of goods is another weighty argument \"for\". The unmanned aerial vehicle reaches a remote land site in 30 minutes, and a helicopter - for 2 hours.'),\n",
       "  (0.00868135690689087,\n",
       "   'PricewaterhouseCoopers estimates the market of an unmanned aerial vehicle in 2020 at $ 127 billion. According to PwC, a large part (61%) of unmanned aerial vehicles will be used in the maintenance of infrastructure projects and in agriculture.'),\n",
       "  (0.008214473724365234,\n",
       "   \"The term drone, more widely used by the public, was coined in reference to the early remotely-flown target aircraft used for practice firing of a battleship's guns, and the term was first used with the 1920s Fairey Queen and 1930's de Havilland Queen Bee target aircraft. These two were followed in service by the similarly-named Airspeed Queen Wasp and Miles Queen Martinet, before ultimate replacement by the GAF Jindivik.\"),\n",
       "  (0.0074790120124816895,\n",
       "   'Analysts Gartner published the results of the study, according to which in 2017 the production of drones was 3 million units. For comparison: in 2016, 2.1 million unmanned vehicles were produced. The average annual growth rate of the market (CAGR) during the forecast period is expected at 34%. The authors of the study noted that the share of drones for industrial monitoring during this period will remain the largest - about 30%. 7% of drones will have to enter the agricultural market. For commercial delivery, due to the high costs of operations, only 1% of drones will be required.'),\n",
       "  (0.0027446746826171875,\n",
       "   'The most noticeable advantage of modern unmanned aerial vehicles in comparison with manned aircraft is that they do not need pilots, flight control functions are almost completely transferred to automation, and the operator basically only observes the operation of on-board systems. The absence on board of the pilot makes it possible to significantly increase the flight time and reduce the overall weight of the design of the unmanned aerial vehicle. Thanks to this, it becomes possible to solve a wider range of tasks at a much lower economic cost than using manned alternatives.'),\n",
       "  (0.002161681652069092,\n",
       "   'According to the definition approved by the ICAO Assembly, an unmanned aerial vehicle (drone) is an aircraft without a pilot who is flying without an aircraft commander on board and is either completely remotely controlled from another location from the ground, from another aircraft, from space, or programmed and fully autonomous.'),\n",
       "  (0.002059638500213623,\n",
       "   'Maintenance and maintenance of UAVs is cheaper than similar costs for manned aircraft. After all, planes and helicopters need to maintain safety systems and protect pilots. Specialists managing and servicing aircraft and helicopters must undergo training, retraining, and medical commissions. The time and financial costs for drones are incommensurably lower.'),\n",
       "  (0.0019975900650024414,\n",
       "   'The absence of a man on board the UAV can remove a number of design limitations, increase operational reliability, reduce the takeoff weight and cost of both the apparatus and the entire complex as a whole. Also, the absence of a crew makes it possible to significantly expand the ranges of operational overloads and to increase the time for the task, which is limited in modern manned aircraft mainly by the physiological capabilities of its crew.'),\n",
       "  (0.0016288161277770996,\n",
       "   'According to the Rules for the Use of the Airspace of the Russian Federation, an unmanned aerial vehicle is defined as \"an aircraft flying without a pilot (crew) on board and operated automatically in flight, by an operator from a control point or a combination of said methods.\"'),\n",
       "  (0.0015544295310974121,\n",
       "   'Unmanned aerial vehicles are difficult to classify, because they have very different characteristics. This diversity comes from the abundance of configurations and components of an unmanned aerial vehicle. Manufacturers are not limited to any standards yet. As a result, today there are no requirements on the part of aviation regulators on how an unmanned aerial vehicle should be equipped.'),\n",
       "  (0.0014785528182983398,\n",
       "   'The market of Unmanned Aerial Systems is one of the most dynamically developing markets in Russia and the world.'),\n",
       "  (0.0014598965644836426,\n",
       "   \"Representatives of the company Tractica predict that the revenue from the supply of drones and the provision of services will grow from $ 792 million in 2017 to $ 12.6 billion by 2025. The company's report states that most of the revenue comes from equipment sales. Then this share will shift towards services and operations.\"),\n",
       "  (0.0009561777114868164,\n",
       "   'A UAV is defined as a \"powered, aerial vehicle that does not carry a human operator, uses aerodynamic forces to provide vehicle lift, can fly autonomously or be piloted remotely, can be expendable or recoverable, and can carry a lethal or nonlethal payload\"Therefore, missiles are not considered UAVs because the vehicle itself is a weapon that is not reused, though it is also unmanned and in some cases remotely guided.'),\n",
       "  (0.0008942484855651855,\n",
       "   'For manned aircraft, it is important to have a huge platform for takeoff and landing, while for a drones landing there is enough band of 500-600 meters, and miniature drones will easily land even on the steps near the threshold. UAVs economically consume fuel due to their compact dimensions, which is also an advantage.'),\n",
       "  (0.0008013248443603516,\n",
       "   'In 2017, Sberbank adopted the Development Strategy until 2020, the main goal of which is to implement initiatives that will allow the Bank to reach a new level of competitiveness, enabling it to compete with global technology companies while remaining the best bank for the population and business.'),\n",
       "  (0.0007149577140808105,\n",
       "   'The VRT300 has a coaxial system of screws (two 3.5-meter-wide screws rotating in opposite directions), which improves controllability and stability to wind gusts, reduces fuel consumption by hovering by 20%, this system makes the drone more compact, it allows ship-based .'),\n",
       "  (0.0006802082061767578,\n",
       "   '06/16/2017 Sberbank first tested an unmanned aerial vehicle to deliver cash. The device at a speed of 180 km / h overcame a distance of 10 km from the cash center to the cash collection vehicle.'),\n",
       "  (0.0006071329116821289,\n",
       "   'The wide use of electronics makes it possible to increase the effectiveness of UAV applications in the dark and (or) in bad weather conditions, for example the presented model of unmanned aerial system can be used at any time of day and at temperatures from -40 to +50 Celsius.'),\n",
       "  (0.0005731582641601562,\n",
       "   'The law on compulsory registration of all unmanned aerial vehicles heavier than 250 grams was signed by Russian President Vladimir Putin on December 30, 2015, but the State Duma abolished it in 2016 due to difficulties with its implementation.'),\n",
       "  (0.0005488395690917969,\n",
       "   'Amendments to the Air Code from July 5, 2017 introduced mandatory in Russia registration of unmanned aerial vehicles (UAV) weighing from 250 grams.'),\n",
       "  (0.000521242618560791,\n",
       "   'Due to the target load of 70 kg, the complex can be used to transport various cargoes, such as products and medicines, to provide search and rescue operations and to determine the parameters of ice fields suitable for locating scientific polar stations.'),\n",
       "  (0.0004875063896179199,\n",
       "   'The VRT300 is developed in two versions: Arctic Supervision - with a side-scan radar for Arctic exploration and operation in the Arctic and Opticvision - with extended range for monitoring and remote sensing tasks.'),\n",
       "  (0.0004788041114807129,\n",
       "   '• A new fast-growing segment is developing - the market of services for geoinformation services, and developments in the field of artificial intelligence and specialized sensors will support the development of the industry of an unmanned aerial vehicle.'),\n",
       "  (0.00038164854049682617,\n",
       "   '• Drones are actively being introduced into segments that are now serviced by satellites and manned aircraft, while the demand for high-quality aerial survey data is increasing;'),\n",
       "  (0.0003566741943359375,\n",
       "   'Now, \"ProtectionEnterprises\" will identify UAVs with special RFID tags, through which it is possible to obtain information about the drones and its owner at distances up to 300 meters.'),\n",
       "  (0.00030171871185302734,\n",
       "   'Registration will be carried out by the company \"ZashchitaInfo Trans\" of the Ministry of Transport of Russia.'),\n",
       "  (0.0002840757369995117,\n",
       "   'The first experimental apparatus will become a flying laboratory for testing all systems and equipment, including testing the interaction with the ground control complex.'),\n",
       "  (0.0002627372741699219,\n",
       "   '• The boundaries between professional and consumer drones began to narrow, and the average price for all types of devices would decline;'),\n",
       "  (0.00025784969329833984,\n",
       "   'Online bank for legal entities, \"Sberbank Business Online\", monthly use more than 1.5 million customers - legal entities.'),\n",
       "  (0.00022137165069580078,\n",
       "   'According to the forecast by 2022, the market turnover of military unmanned vehicles will grow to $ 13.7 billion.'),\n",
       "  (0.00021255016326904297,\n",
       "   'In 2019, it is planned to certify the device, and in 2020 - to begin commercial sales.'),\n",
       "  (0.0001806020736694336,\n",
       "   'Multiple terms are used for unmanned aerial vehicles, which generally refer to the same concept.'),\n",
       "  (0.00017881393432617188,\n",
       "   'Analysts note the following key trends in the development of the market for unmanned aerial vehicles:')])"
      ]
     },
     "execution_count": 344,
     "metadata": {},
     "output_type": "execute_result"
    }
   ],
   "source": [
    "rnet_data[0]"
   ]
  },
  {
   "cell_type": "code",
   "execution_count": 345,
   "metadata": {
    "collapsed": false
   },
   "outputs": [
    {
     "data": {
      "text/plain": [
       "['what country manufactured the helicopter?',\n",
       " 'Russia',\n",
       " [['Helicopters of Russia JSC (part of Rostekh State Corporation) is one of the world leaders in the helicopter industry, the only developer and manufacturer of helicopters in Russia. The holding was established in 2007. The head office is located in Moscow. The holding includes five helicopter factories, two design bureaus, as well as enterprises for the production and maintenance of components, aircraft repair plants and a service company that provides after-sales support in Russia and abroad.',\n",
       "   12.161507133848627],\n",
       "  ['Maintenance and maintenance of UAVs is cheaper than similar costs for manned aircraft. After all, planes and helicopters need to maintain safety systems and protect pilots. Specialists managing and servicing aircraft and helicopters must undergo training, retraining, and medical commissions. The time and financial costs for drones are incommensurably lower.',\n",
       "   3.9411082975728586],\n",
       "  [\"The organizations of Rostech are located in the territory of 60 subjects of the Russian Federation and supply products to the markets of more than 70 countries. Consolidated revenue of Rostech in 2016 reached 1 trillion 266 billion rubles, consolidated net profit - 88 billion rubles, and EBITDA - 268 billion rubles. The average salary for the Corporation in 2016 was 44,000 rubles. According to Rostekh's new strategy, the main goal of the Corporation is to ensure Russia's technological advantage in highly competitive global markets. One of Rostekh's key tasks is the introduction of a new technological structure and the digitalization of the Russian economy\",\n",
       "   2.98883055031526],\n",
       "  ['Sberbank today is the largest bank in Russia and one of the largest Russian companies. Sberbank accounts for 28.9% of the total banking assets of the country (as of January 1, 2018), and its active customers are 60% of the population. Sberbank is among the top 5 largest employers of Russia. The Bank is the main creditor of the Russian economy and holds the largest share in the deposit market. It accounts for 46.1% of household deposits, 40.5% of loans to individuals and 32.4% of loans to legal entities (as of January 1, 2018). Sberbank consists of 14 territorial banks and 14.2 thousand branches in the Russian Federation.',\n",
       "   2.98883055031526],\n",
       "  [\"The Bank's foreign network consists of subsidiaries, branches and representative offices in the CIS, Central and Eastern Europe, Turkey, the United Kingdom, the United States and other countries. The number of active retail customers of Sberbank in Russia exceeds 86 million people, the number of corporate clients of the Group is more than 2 million in Russia. The range of Sberbank services for retail customers is maximally wide: from traditional deposits and various types of lending to bank cards, money transfers, bank insurance and brokerage services. The Bank serves all corporate customer groups, paying special attention to remote service channels.\",\n",
       "   2.98883055031526],\n",
       "  ['In recent years, Sberbank has been at the forefront of technological and innovative changes in the country. We successfully transform our own technological platform and create the largest industrial IT system based on the most modern technologies. In addition, we are actively developing innovative technologies, such as artificial intelligence, machine learning, blockage, robotics and others. On the basis of Sberbank, we do not simply introduce new technologies into our business processes, but also invest in their development and popularization on a national scale.',\n",
       "   2.98883055031526],\n",
       "  ['A significant advantage of unmanned vehicles is their patency and transport accessibility - they will reach the land areas, where to reach by land or by plane, is problematic. The speed of delivery of goods is another weighty argument \"for\". The unmanned aerial vehicle reaches a remote land site in 30 minutes, and a helicopter - for 2 hours.',\n",
       "   2.486599394010713],\n",
       "  [\"The buyers of the holding's products are the Ministry of Defense of Russia, the Ministry of Internal Affairs of Russia, EMERCOM of Russia, other government customers, airlines Gazprom and UTair, large Russian and foreign companies. In 2016, the revenue of Russian Helicopters under IFRS amounted to 214.3 billion rubles, the volume of deliveries amounted to 189 helicopters\",\n",
       "   2.486599394010713],\n",
       "  ['The St. Petersburg International Economic Forum is scheduled to sign a Memorandum of Cooperation between PJSC Sberbank and JSC Helicopters of Russia, within the framework of this memorandum, it is planned to establish partnerships aimed at creating a federal logistics operator using unmanned aerial systems of a helicopter type.',\n",
       "   2.486599394010713],\n",
       "  [\"Representatives of the company Tractica predict that the revenue from the supply of drones and the provision of services will grow from $ 792 million in 2017 to $ 12.6 billion by 2025. The company's report states that most of the revenue comes from equipment sales. Then this share will shift towards services and operations.\",\n",
       "   0.0001],\n",
       "  ['The wide use of electronics makes it possible to increase the effectiveness of UAV applications in the dark and (or) in bad weather conditions, for example the presented model of unmanned aerial system can be used at any time of day and at temperatures from -40 to +50 Celsius.',\n",
       "   0.0001],\n",
       "  ['• Drones are actively being introduced into segments that are now serviced by satellites and manned aircraft, while the demand for high-quality aerial survey data is increasing;',\n",
       "   0.0001],\n",
       "  ['• The boundaries between professional and consumer drones began to narrow, and the average price for all types of devices would decline;',\n",
       "   0.0001],\n",
       "  ['• A new fast-growing segment is developing - the market of services for geoinformation services, and developments in the field of artificial intelligence and specialized sensors will support the development of the industry of an unmanned aerial vehicle.',\n",
       "   0.0001],\n",
       "  ['The most noticeable advantage of modern unmanned aerial vehicles in comparison with manned aircraft is that they do not need pilots, flight control functions are almost completely transferred to automation, and the operator basically only observes the operation of on-board systems. The absence on board of the pilot makes it possible to significantly increase the flight time and reduce the overall weight of the design of the unmanned aerial vehicle. Thanks to this, it becomes possible to solve a wider range of tasks at a much lower economic cost than using manned alternatives.',\n",
       "   0.0001],\n",
       "  ['The absence of a man on board the UAV can remove a number of design limitations, increase operational reliability, reduce the takeoff weight and cost of both the apparatus and the entire complex as a whole. Also, the absence of a crew makes it possible to significantly expand the ranges of operational overloads and to increase the time for the task, which is limited in modern manned aircraft mainly by the physiological capabilities of its crew.',\n",
       "   0.0001],\n",
       "  ['The VRT300 is developed in two versions: Arctic Supervision - with a side-scan radar for Arctic exploration and operation in the Arctic and Opticvision - with extended range for monitoring and remote sensing tasks.',\n",
       "   0.0001],\n",
       "  ['Analysts note the following key trends in the development of the market for unmanned aerial vehicles:',\n",
       "   0.0001],\n",
       "  ['\\ufeffThe Helicopters of Russia (part of the Rostekh state corporation) has developed a VRT300 unmanned vehicle with a maximum takeoff weight of 300 kg and a target payload of 70 kg.',\n",
       "   0.0001],\n",
       "  ['For manned aircraft, it is important to have a huge platform for takeoff and landing, while for a drones landing there is enough band of 500-600 meters, and miniature drones will easily land even on the steps near the threshold. UAVs economically consume fuel due to their compact dimensions, which is also an advantage.',\n",
       "   0.0001],\n",
       "  ['The priority tasks of the VRT300 Arctic Supervision complex are the development of the Northern Sea Route transport system, as well as assistance in the development of the Arctic. For this purpose, the complex is equipped with an onboard side-scan radar of the X-band high resolution, which allows us to quickly assess the dynamics of the ice situation. The presence of an engine on \"heavy\" fuel and the possibility of ship basing makes the Arctic version of the VRT300 irreplaceable both on icebreakers and on drilling platforms.',\n",
       "   0.0001],\n",
       "  ['Analysts Gartner published the results of the study, according to which in 2017 the production of drones was 3 million units. For comparison: in 2016, 2.1 million unmanned vehicles were produced. The average annual growth rate of the market (CAGR) during the forecast period is expected at 34%. The authors of the study noted that the share of drones for industrial monitoring during this period will remain the largest - about 30%. 7% of drones will have to enter the agricultural market. For commercial delivery, due to the high costs of operations, only 1% of drones will be required.',\n",
       "   0.0001],\n",
       "  ['According to the Rules for the Use of the Airspace of the Russian Federation, an unmanned aerial vehicle is defined as \"an aircraft flying without a pilot (crew) on board and operated automatically in flight, by an operator from a control point or a combination of said methods.\"',\n",
       "   0.0001],\n",
       "  ['In early 2017, the news arose that the management of unmanned aerial vehicles was officially recognized in Russia as a profession, for the development of which it would be necessary to undergo training at special courses.',\n",
       "   0.0001],\n",
       "  ['Amendments to the Air Code from July 5, 2017 introduced mandatory in Russia registration of unmanned aerial vehicles (UAV) weighing from 250 grams.',\n",
       "   0.0001],\n",
       "  ['Registration will be carried out by the company \"ZashchitaInfo Trans\" of the Ministry of Transport of Russia.',\n",
       "   0.0001],\n",
       "  ['The law on compulsory registration of all unmanned aerial vehicles heavier than 250 grams was signed by Russian President Vladimir Putin on December 30, 2015, but the State Duma abolished it in 2016 due to difficulties with its implementation.',\n",
       "   0.0001],\n",
       "  ['Now, \"ProtectionEnterprises\" will identify UAVs with special RFID tags, through which it is possible to obtain information about the drones and its owner at distances up to 300 meters.',\n",
       "   0.0001],\n",
       "  ['Due to the target load of 70 kg, the complex can be used to transport various cargoes, such as products and medicines, to provide search and rescue operations and to determine the parameters of ice fields suitable for locating scientific polar stations.',\n",
       "   0.0001],\n",
       "  ['Complex VRT300 in the version of Opticvision is designed for the development of a system for diagnosing, preventing and eliminating emergencies in the sphere of extraction and transportation of energy resources. The Opticvision version can be in the air for up to 5 hours, travel at a speed of 180 km / h and is primarily designed for diagnosing, preventing and eliminating emergencies during the extraction and transportation of hydrocarbons. Other tasks of the complex include: diagnostics of overhead transmission lines, mapping, transportation of cargo, search operations, as well as monitoring of the ecological situation, roads and objects of roadside infrastructure.',\n",
       "   0.0001],\n",
       "  ['Unmanned aerial vehicles are difficult to classify, because they have very different characteristics. This diversity comes from the abundance of configurations and components of an unmanned aerial vehicle. Manufacturers are not limited to any standards yet. As a result, today there are no requirements on the part of aviation regulators on how an unmanned aerial vehicle should be equipped.',\n",
       "   0.0001],\n",
       "  ['In addition, at the moment, such a direction is developing the use of an unmanned aerial vehicle, as so-called. \"Dron-racing,\" that is, races on self-assembled civil UAVs of a multi-rotor type, most often quadrocopters, mostly small, diagonal lengths between opposite motors up to 25 cm, whose capacities allow them to accelerate to 150 km / h. These races consist in the passage of a certain three-dimensional track, formed by a landscape and artificial obstacles (for example, gates), for a while or for speed, competing with other participants. World championships are held between the best pilots. It is actively developing in Russia.',\n",
       "   0.0001],\n",
       "  ['Civil unmanned aerial vehicles began to gain avalanche in popularity at the beginning of the 2010s. In 2010, the US Federal Aviation Administration (FAA) mistakenly assumed that by 2020, about 15,000 drones will be used for peaceful purposes. In a similar forecast by the FAA in 2016, this estimate was raised to 550,000. In the forecast of Business Insider, released in 2014, the market of civil unmanned aerial vehicles was estimated at $ 1 billion in 2020, but two years later this estimate was raised to 12 billion dollars.',\n",
       "   0.0001],\n",
       "  ['According to the NY Times, in 2016, 2.8 million civil unmanned aerial vehicles were sold in the United States for a total of $ 953 million. The world sales amounted to 9.4 million units.',\n",
       "   0.0001],\n",
       "  ['The first experimental apparatus will become a flying laboratory for testing all systems and equipment, including testing the interaction with the ground control complex.',\n",
       "   0.0001],\n",
       "  ['06/16/2017 Sberbank first tested an unmanned aerial vehicle to deliver cash. The device at a speed of 180 km / h overcame a distance of 10 km from the cash center to the cash collection vehicle.',\n",
       "   0.0001],\n",
       "  ['Online bank for legal entities, \"Sberbank Business Online\", monthly use more than 1.5 million customers - legal entities.',\n",
       "   0.0001],\n",
       "  ['In 2017, Sberbank adopted the Development Strategy until 2020, the main goal of which is to implement initiatives that will allow the Bank to reach a new level of competitiveness, enabling it to compete with global technology companies while remaining the best bank for the population and business.',\n",
       "   0.0001],\n",
       "  ['State Corporation Rostekh is a Russian corporation established in 2007 to promote the development, production and export of high-tech industrial products for civilian and military use. It consists of more than 700 organizations, of which currently there are 9 holding companies in the defense industrial complex and 6 in the civilian industries, as well as 32 direct management organizations. Rostekh\\'s portfolio includes such well-known brands as AVTOVAZ, KAMAZ, Kalashnikov Concern, \"Russian Helicopters\", VSMPO-AVISMA, etc.',\n",
       "   0.0001],\n",
       "  ['In 2019, it is planned to certify the device, and in 2020 - to begin commercial sales.',\n",
       "   0.0001],\n",
       "  ['Multiple terms are used for unmanned aerial vehicles, which generally refer to the same concept.',\n",
       "   0.0001],\n",
       "  [\"The term drone, more widely used by the public, was coined in reference to the early remotely-flown target aircraft used for practice firing of a battleship's guns, and the term was first used with the 1920s Fairey Queen and 1930's de Havilland Queen Bee target aircraft. These two were followed in service by the similarly-named Airspeed Queen Wasp and Miles Queen Martinet, before ultimate replacement by the GAF Jindivik.\",\n",
       "   0.0001],\n",
       "  [\"The term unmanned aircraft system (UAS) was adopted by the United States Department of Defense (DoD) and the United States Federal Aviation Administration in 2005 according to their Unmanned Aircraft System Roadmap 2005–2030. The International Civil Aviation Organization (ICAO) and the British Civil Aviation Authority adopted this term, also used in the European Union's Single-European-Sky (SES) Air-Traffic-Management (ATM) Research (SESAR Joint Undertaking) roadmap for 2020. This term emphasizes the importance of elements other than the aircraft. It includes elements such as ground control stations, data links and other support equipment. A similar term is an unmanned-aircraft vehicle system (UAVS), remotely piloted aerial vehicle (RPAV), remotely piloted aircraft system (RPAS) Many similar terms are in use.\",\n",
       "   0.0001],\n",
       "  ['A UAV is defined as a \"powered, aerial vehicle that does not carry a human operator, uses aerodynamic forces to provide vehicle lift, can fly autonomously or be piloted remotely, can be expendable or recoverable, and can carry a lethal or nonlethal payload\"Therefore, missiles are not considered UAVs because the vehicle itself is a weapon that is not reused, though it is also unmanned and in some cases remotely guided.',\n",
       "   0.0001],\n",
       "  [\"Drones are used even in the zoo. Thus, in the Chinese province of Heilongjiang, the Amur tigers gained excess weight and became completely lazy. This can be a real problem for animals, because they have impaired metabolism and reduced immunity. That's why it was necessary to make them move. As a coach (and an incentive for training) over an enclosure with striped predators, a drone was launched, after which the tigers are happy to hunt, which helps them to come in good physical shape.\",\n",
       "   0.0001],\n",
       "  ['The earliest recorded use of an unmanned aerial vehicle for warfighting occurred on August 22, 1849, when the Austrians attacked the Italian city of Venice with unmanned balloons loaded with explosives known as Austrian balloons. At least some of the balloons were launched from the Austrian ship Vulcano. Although some of the balloons worked and successfully managed to bomb The Republic, others were caught in a change of wind and blown back over Austrian lines. This occurred on the first launch as the wind was not in Austria\\'s favor on July 12, 1849 The Austrians had been developing this system for 66 years, since the idea was hatched in 1783. The Presse, of Vienna, Austria, stated: \"Venice is to be bombarded by balloons, as the lagunes prevent the approaching of artillery. Five balloons, each measuring 5.7 meters in diameter, are in construction at Treviso. In a favorable wind the balloons will be launched and directed as near to Venice as possible, and on their being brought to vertical positions over the town, they will be fired by electro magnetism by means of a long isolated copper wire with a large galvanic battery placed on a building. The bomb falls perpendicularly, and explodes on reaching the ground.\" Balloons do not generally meet today\\'s definition of a UAV. Once winged aircraft had been invented, the effort to fly them unmanned for military purposes was not far behind.',\n",
       "   0.0001],\n",
       "  ['Later, in November 1917, the Automatic Airplane was flown for representatives of the US Army. This led the army to commission a project to build an \"aerial torpedo\", resulting in the Kettering Bug which first flew in 1918. While the Bug\\'s revolutionary technology was successful, it was not in time to fight in the war, which ended before it could be fully developed and deployed.',\n",
       "   0.0001],\n",
       "  ['The market of Unmanned Aerial Systems is one of the most dynamically developing markets in Russia and the world.',\n",
       "   0.0001],\n",
       "  ['According to the report of Dutch consulting firm ASD, in 2016 the market turnover of military unmanned aerial vehicles was $ 8.5 billion. The Russian market of unmanned aerial vehicle will make $ 147 million in 2016 with the potential of growth up to $ 224 million by 2020.',\n",
       "   0.0001],\n",
       "  ['The largest suppliers are Israel Aerospace Industries (Israel Aviation Industry, IAI) and Elbit Systems, which own up to 70% of the world market for unmanned vehicles, and 3 US corporations - AeroVironment Industries, General Atomics Aeronautical Systems and Northrop Grumman.',\n",
       "   0.0001],\n",
       "  ['The VRT300 has a coaxial system of screws (two 3.5-meter-wide screws rotating in opposite directions), which improves controllability and stability to wind gusts, reduces fuel consumption by hovering by 20%, this system makes the drone more compact, it allows ship-based .',\n",
       "   0.0001],\n",
       "  ['According to the forecast by 2022, the market turnover of military unmanned vehicles will grow to $ 13.7 billion.',\n",
       "   0.0001],\n",
       "  ['According to the definition approved by the ICAO Assembly, an unmanned aerial vehicle (drone) is an aircraft without a pilot who is flying without an aircraft commander on board and is either completely remotely controlled from another location from the ground, from another aircraft, from space, or programmed and fully autonomous.',\n",
       "   0.0001],\n",
       "  ['For the first time, the civilian application of drones was announced by Amazon for the delivery of consumer goods in 2013. After that, the market began to develop rapidly, opening up new areas of commercial and private use. In addition to the manufacturers of unmanned aerial vehicles (UAVs), the distributors of such devices, component manufacturers, opticians and computer vision systems, software, cartographic services and aerial photography companies, the agricultural sector, a wide range of public services (police, ambulance, fire, emergency services), insurance and investment companies and others.',\n",
       "   0.0001],\n",
       "  ['Currently, Russia holds a small share in the sales of unmanned aerial vehicles on the world market, it is about 2%, but has a high potential for further growth. It should be noted that in the sales structure of the Russian market, the civil unmanned aerial vehicle accounts for more than 70% of the market, in which the main share is occupied by consumer drones.',\n",
       "   0.0001],\n",
       "  ['PricewaterhouseCoopers estimates the market of an unmanned aerial vehicle in 2020 at $ 127 billion. According to PwC, a large part (61%) of unmanned aerial vehicles will be used in the maintenance of infrastructure projects and in agriculture.',\n",
       "   0.0001],\n",
       "  ['The first pilotless aircraft were built during and shortly after World War I. Leading the way, using A. M. Low\\'s radio control techniques, was the Ruston Proctor Aerial Target of 1916. If developed further it was to have been used against Zeppelins. Soon after, on September 12, the Hewitt-Sperry Automatic Airplane, otherwise known as the \"flying bomb\" made its first flight, demonstrating the concept of an unmanned aircraft. They were intended for use as \"aerial torpedoes\" an early version of today\\'s cruise missiles. Control was achieved using gyroscopes developed by Elmer Sperry of the Sperry Gyroscope Company.',\n",
       "   0.0001],\n",
       "  [\"The presented version of VRT300 is intended for collection and is one of the consequences of Sberbank's partnership and Russian Helicopters.\",\n",
       "   0.0001]]]"
      ]
     },
     "execution_count": 345,
     "metadata": {},
     "output_type": "execute_result"
    }
   ],
   "source": [
    "tfidf_data[0]"
   ]
  },
  {
   "cell_type": "code",
   "execution_count": 346,
   "metadata": {
    "collapsed": true
   },
   "outputs": [],
   "source": [
    "# make paragraph: id map\n",
    "\n",
    "all_pars = []\n",
    "for instance in tfhub_data:\n",
    "    pars = instance[2]\n",
    "    all_pars += [p[0] for p in pars]\n",
    "\n",
    "all_pars = list(set(all_pars))"
   ]
  },
  {
   "cell_type": "code",
   "execution_count": 347,
   "metadata": {
    "collapsed": false
   },
   "outputs": [
    {
     "data": {
      "text/plain": [
       "58"
      ]
     },
     "execution_count": 347,
     "metadata": {},
     "output_type": "execute_result"
    }
   ],
   "source": [
    "len(all_pars)"
   ]
  },
  {
   "cell_type": "code",
   "execution_count": 348,
   "metadata": {
    "collapsed": true
   },
   "outputs": [],
   "source": [
    "par2id = {all_pars[i]: i for i in range(len(all_pars))}"
   ]
  },
  {
   "cell_type": "code",
   "execution_count": 349,
   "metadata": {
    "collapsed": true
   },
   "outputs": [],
   "source": [
    "id2par = {v: k for k, v in par2id.items()}"
   ]
  },
  {
   "cell_type": "code",
   "execution_count": 350,
   "metadata": {
    "collapsed": false
   },
   "outputs": [
    {
     "name": "stdout",
     "output_type": "stream",
     "text": [
      "All pars exist.\n"
     ]
    }
   ],
   "source": [
    "all_pars_rnet = []\n",
    "for instance in rnet_data:\n",
    "    pars = instance[2]\n",
    "    all_pars_rnet += [p[0] for p in pars]\n",
    "\n",
    "all_pars_rnet = list(set(all_pars))\n",
    "\n",
    "for p in all_pars_rnet:\n",
    "    if p not in par2id.keys():\n",
    "        print(p)\n",
    "else:\n",
    "    print('All pars exist.')"
   ]
  },
  {
   "cell_type": "code",
   "execution_count": 351,
   "metadata": {
    "collapsed": false
   },
   "outputs": [
    {
     "name": "stdout",
     "output_type": "stream",
     "text": [
      "All pars exist.\n"
     ]
    }
   ],
   "source": [
    "all_pars_tfidf = []\n",
    "for instance in tfidf_data:\n",
    "    pars = instance[2]\n",
    "    all_pars_tfidf += [p[0] for p in pars]\n",
    "\n",
    "all_pars_tfidf = list(set(all_pars))\n",
    "\n",
    "for p in all_pars_tfidf:\n",
    "    if p not in par2id.keys():\n",
    "        print(p)\n",
    "else:\n",
    "    print('All pars exist.')"
   ]
  },
  {
   "cell_type": "code",
   "execution_count": 352,
   "metadata": {
    "collapsed": true
   },
   "outputs": [],
   "source": [
    "all_questions = [item[0] for item in rnet_data]"
   ]
  },
  {
   "cell_type": "code",
   "execution_count": 353,
   "metadata": {
    "collapsed": false
   },
   "outputs": [
    {
     "data": {
      "text/plain": [
       "['what country manufactured the helicopter?',\n",
       " 'in which year was the helicopter created?',\n",
       " 'weight of a drones?',\n",
       " 'how long does the helicopter work?',\n",
       " 'What are the dimensions of this model of unmanned helicopter?',\n",
       " 'where you can buy?',\n",
       " 'where you can buy a helicopter?',\n",
       " 'where is the helicopter?',\n",
       " 'where is it?',\n",
       " 'What is the carrying capacity of a helicopter?',\n",
       " 'What is the weight of the helicopter?',\n",
       " 'What is the mass of the helicopter?',\n",
       " 'What time can be in the air?',\n",
       " 'what amount of payload is it capable of carrying?',\n",
       " 'what is the weight of the helicopter?',\n",
       " 'how long can the helicopter be in the air?',\n",
       " 'how long is the helicopter capable of being in the air?',\n",
       " 'how long is the duration of a helicopter flight?',\n",
       " 'how much does the helicopter weigh?',\n",
       " 'how long can a it stay in the air without moving around ?',\n",
       " 'how many types of unmanned helicopters are there?',\n",
       " 'how many types does it have?',\n",
       " 'how many wings it has?',\n",
       " 'what is the average weight of an unmanned helicopter?',\n",
       " 'what is the benefit of it?',\n",
       " 'what is the flight time with full battery?',\n",
       " 'what is the function of an unmanned helicopter?',\n",
       " 'what is the functions of this helicopter?',\n",
       " 'what is the maximum weight you can carry?',\n",
       " 'what is the purpose of an unmanned helicopter?',\n",
       " 'what is the purpose of it?',\n",
       " 'what is the weight',\n",
       " 'what is the weight of it?',\n",
       " 'what is the weight?',\n",
       " 'what is the working time with full charge',\n",
       " 'what is this helicopter for?',\n",
       " \"what's the aim of it?\",\n",
       " 'when did the unmanned helicopter production begin?',\n",
       " 'it can be bought somewhere?',\n",
       " 'is there a copy of the helicopter?',\n",
       " 'is there a copy of the helicopter model?',\n",
       " 'Does the helicopter have a camera?',\n",
       " 'how to control the helicopter?',\n",
       " 'what is the name of this helicopter?',\n",
       " 'how is the helicopter operated?',\n",
       " 'how is the helicopter controlled?',\n",
       " 'What is the takeoff weight of a drone?',\n",
       " 'What is the take-off mass of an unmanned vehicle?',\n",
       " 'what is the length of the blades of the helicopter?',\n",
       " 'which company developed a drone?',\n",
       " 'What kind of a helicopter is it?',\n",
       " 'What is the maximum duration of a helicopter flight?',\n",
       " 'what is the maximum speed of the helicopter?',\n",
       " 'what is the brand of the helicopter?',\n",
       " 'which model of the helicopter?',\n",
       " 'what is the model of the helicopter in front of you?',\n",
       " 'what is the duration of the flight?',\n",
       " 'What powerplant helicopter?',\n",
       " 'What is the speed of the helicopter?',\n",
       " 'which country used it for the first time?',\n",
       " 'what characteristics does the helicopter have?',\n",
       " 'What are the modifications of the helicopter?',\n",
       " 'Can a helicopter carry cargo?',\n",
       " 'what is the scope of the helicopter?',\n",
       " 'how much is the wingspan of the drone?',\n",
       " 'What is the way to control the helicopter?',\n",
       " 'What type of power is the helicopter?',\n",
       " 'What are the purposes of this helicopter?',\n",
       " 'What is an unmanned helicopter?',\n",
       " 'What is spief?',\n",
       " 'what is it?',\n",
       " 'does it have any remote control?',\n",
       " 'does it have remote control?',\n",
       " 'does it need electricty or fuel to fly?',\n",
       " 'how can it help to people?',\n",
       " 'how do you control it?',\n",
       " 'how does it fly?',\n",
       " 'how does it work without a man?',\n",
       " 'how fast can it fly?',\n",
       " 'how fast can it go?',\n",
       " 'how fast is it ?',\n",
       " 'how is it controlled?',\n",
       " 'how is the flight monitored?',\n",
       " 'how long did it take to do this helicopter?',\n",
       " 'how long was the construction process?',\n",
       " 'how old is it?',\n",
       " 'is there a pilot?',\n",
       " 'what is fuel?',\n",
       " 'which system does vrt300 have?',\n",
       " 'how much wide are the screws?',\n",
       " 'how much reduces fuel consumption?',\n",
       " 'what improves to wind gusts?',\n",
       " 'what is the framework of this memorandum?',\n",
       " 'who signed the agreement with sberbanks?',\n",
       " 'what is a russian corporation established in 2007 to promote the development?',\n",
       " 'how many organization rostekh consist?',\n",
       " \"what does rostekh's portfolio include?\",\n",
       " \"what is the main goal of the corparation according to rostekh's?\",\n",
       " \"what is the one of rostekh's key tasks?\",\n",
       " 'what is the one of the priority tasks of the vrt300 arctic supervision complex?',\n",
       " 'what kind of radar the complex is equipped with?',\n",
       " 'what is the  target load of the vrt300 complex?',\n",
       " 'what  kind of  platforms vrt300 is irreplaceable on?',\n",
       " 'what kind of cargoes the complex can transport?',\n",
       " 'what did sberbank first test?',\n",
       " 'when did sberbank first test an unmanned aerial vehicle to deliver cash?',\n",
       " 'how fast is the speed of the device?',\n",
       " 'what distance does the device work?',\n",
       " 'how many versions have been developed for vrt300?',\n",
       " 'what is the first version of these?',\n",
       " 'what is the second version of these?',\n",
       " 'what kind of radar has arctic supervision been doing?',\n",
       " 'what is one of the world leaders in the helicopter industry?',\n",
       " 'when did the holding establish?',\n",
       " 'where is the head office?',\n",
       " 'what does the holding include?',\n",
       " 'what is designed for the development of a system for diagnosing, preventing and eliminating emergencies in the sphere of extraction and transportation of energy resources?',\n",
       " 'how many hours can the opticvision version stay in the air?',\n",
       " 'what is the other task for vrt300?',\n",
       " 'what is the travel at speed?',\n",
       " 'what is primarily designed for ?',\n",
       " 'What was the drone production volume in 2017?',\n",
       " 'What was the drone production volume in 2016?',\n",
       " 'What is the main advantage of drones?',\n",
       " 'What is the most noticeable advantage of unmmaned aerial vehicals?',\n",
       " 'In what daytime drones could be used?',\n",
       " 'What is the allowed temperature for drones?',\n",
       " 'How can we classify drones?',\n",
       " 'Is it necessary to register unmaned aerial vehicles?',\n",
       " 'Where should be drone registered?',\n",
       " 'What is the benefit of unmanned vehicle?',\n",
       " 'When was the first unmanned vehicle used?',\n",
       " 'What was the first unmanned vehicle?',\n",
       " 'What about market of drones?',\n",
       " 'Who was the frist to use drones for civiian applications?',\n",
       " 'What part of the market does the Russia take?',\n",
       " 'How many drones will be used by 2020?']"
      ]
     },
     "execution_count": 353,
     "metadata": {},
     "output_type": "execute_result"
    }
   ],
   "source": [
    "all_questions"
   ]
  },
  {
   "cell_type": "code",
   "execution_count": 383,
   "metadata": {
    "collapsed": false
   },
   "outputs": [
    {
     "name": "stdout",
     "output_type": "stream",
     "text": [
      "dimensions the of helicopter does What model this how work long are unmanned ?\n",
      "the helicopter is where it ?\n",
      "air of what payload be the What amount time capable is can it carrying in ?\n",
      "air the does helicopter a around much moving how without can long in weigh it stay ?\n",
      "have does of ? helicopters how there types it are unmanned many\n",
      "of ? helicopters how there has types wings it are unmanned many\n",
      "the what of helicopter ? weight average is an benefit unmanned it\n",
      "the what of helicopter functions this function is an unmanned ?\n",
      "the what of helicopter is an purpose it unmanned ?\n",
      "the what of weight is it ?\n",
      "the what helicopter with for time this is full working charge ?\n",
      "the what of 's with time charge is it full aim working ?\n",
      "be the helicopter somewhere bought can begin when it did production unmanned ?\n",
      "the what of helicopter control name this how is to ?\n",
      "of helicopter a What drone is developed kind it company which ?\n",
      "the of helicopter What country for time used is speed it which first ?\n",
      "the of helicopter What purposes this power is type are ?\n",
      "what What is spief it ?\n",
      "have does What control remote is spief it any ?\n",
      "have does What control remote is spief it ?\n",
      "does electricty fly What ? is spief fuel it or need to\n",
      "What ? how help is people can spief to it\n",
      "What control how you is do spief it ?\n",
      "does What how is it spief fly ?\n",
      "does a What how without work is spief it man ?\n",
      "fast What ? how is spief can fly it\n",
      "fast What ? how is spief can it go\n",
      "fast What how is spief it ?\n",
      "What controlled how is spief it ?\n",
      "the helicopter take ? monitored this how is do long flight it did to\n",
      "the how is old long construction it process was ?\n",
      "the what of wind this memorandum is improves to gusts framework ?\n",
      "these the what of have vrt300 for how is been developed versions first version many ?\n",
      "these the what of have vrt300 for how is been developed second versions version many ?\n",
      "unmaned How vehicles register ? we drones aerial Is can to necessary classify it\n"
     ]
    }
   ],
   "source": [
    "# modify anaphopric questions\n",
    "\n",
    "anaphora_tokens = ['it', 'this', 'these', 'they']\n",
    "new_questions = []\n",
    "prev_tokens = []\n",
    "for i in range(len(all_questions)):\n",
    "    q = all_questions[i]\n",
    "    cur_tokens = word_tokenize(q)\n",
    "    if (any(t in cur_tokens for t in anaphora_tokens)):\n",
    "        if prev_tokens:\n",
    "            new_question = ' '.join(set(cur_tokens + prev_tokens))\n",
    "            print(new_question)\n",
    "            new_questions.append(new_question)\n",
    "        else:\n",
    "            new_questions.append(all_questions[i])\n",
    "    else:\n",
    "        new_questions.append(all_questions[i])\n",
    "        prev_tokens = cur_tokens\n",
    "    \n",
    "    "
   ]
  },
  {
   "cell_type": "code",
   "execution_count": 385,
   "metadata": {
    "collapsed": false
   },
   "outputs": [
    {
     "data": {
      "text/plain": [
       "137"
      ]
     },
     "execution_count": 385,
     "metadata": {},
     "output_type": "execute_result"
    }
   ],
   "source": [
    "len(new_questions)"
   ]
  },
  {
   "cell_type": "code",
   "execution_count": 354,
   "metadata": {
    "collapsed": true
   },
   "outputs": [],
   "source": [
    "all_answers = [item[1] for item in rnet_data]"
   ]
  },
  {
   "cell_type": "code",
   "execution_count": 521,
   "metadata": {
    "collapsed": false,
    "scrolled": false
   },
   "outputs": [],
   "source": [
    "\n",
    "mean_rankers_data = []\n",
    "\n",
    "for q, a in zip(all_questions, all_answers):\n",
    "#     print(q)\n",
    "    tfhub_par_scores = [item[2] for item in tfhub_data if item[0]==q][0]\n",
    "    tfhub_par_id_scores = {par2id[pair[0]]: pair[1] for pair in tfhub_par_scores}\n",
    "    rnet_par_scores = [item[2] for item in rnet_data if item[0]==q][0]\n",
    "    rnet_par_id_scores = {par2id[pair[1]]: pair[0] for pair in rnet_par_scores}\n",
    "    tfidf_par_scores = [item[2] for item in tfidf_data if item[0]==q][0]\n",
    "    tfidf_par_id_scores = {par2id[pair[0]]: pair[1] for pair in tfidf_par_scores}\n",
    "    \n",
    "    tfidf_norm = np.linalg.norm(list(tfidf_par_id_scores.values()))\n",
    "    tfidf_par_id_scores = {k: v / norm for k, v in tfidf_par_id_scores.items()}\n",
    "    \n",
    "#     print(tfhub_par_id_scores)\n",
    "#     print(rnet_par_id_scores)\n",
    "#     print(tfidf_par_id_scores)\n",
    "    \n",
    "    idx2mean = []\n",
    "    for idx in par2id.values():\n",
    "        tfhub_score = tfhub_par_id_scores[idx]\n",
    "        rnet_score = rnet_par_id_scores[idx]\n",
    "        tfidf_score = tfidf_par_id_scores[idx]\n",
    "        mean_score = np.mean([tfhub_score, rnet_score, tfidf_score])                        \n",
    "#         print(idx)\n",
    "#         print(np.mean([tfhub_score, rnet_score, tfidf_score]))\n",
    "        idx2mean.append((idx, mean_score))\n",
    "    idx2mean.sort(key=itemgetter(1))\n",
    "    idx2mean = idx2mean[::-1]\n",
    "    \n",
    "    mean_rankers_data.append((q, a, idx2mean))\n",
    "    "
   ]
  },
  {
   "cell_type": "code",
   "execution_count": 522,
   "metadata": {
    "collapsed": false
   },
   "outputs": [
    {
     "data": {
      "text/plain": [
       "'Helicopters of Russia JSC (part of Rostekh State Corporation) is one of the world leaders in the helicopter industry, the only developer and manufacturer of helicopters in Russia. The holding was established in 2007. The head office is located in Moscow. The holding includes five helicopter factories, two design bureaus, as well as enterprises for the production and maintenance of components, aircraft repair plants and a service company that provides after-sales support in Russia and abroad.'"
      ]
     },
     "execution_count": 522,
     "metadata": {},
     "output_type": "execute_result"
    }
   ],
   "source": [
    "id2par[2]"
   ]
  },
  {
   "cell_type": "code",
   "execution_count": 523,
   "metadata": {
    "collapsed": false
   },
   "outputs": [
    {
     "data": {
      "text/plain": [
       "('in which year was the helicopter created?',\n",
       " '2018',\n",
       " [(2, 0.49433278681240861),\n",
       "  (17, 0.31114465049027873),\n",
       "  (56, 0.30046605621210737),\n",
       "  (4, 0.27306385392379762),\n",
       "  (15, 0.26055708947188078),\n",
       "  (30, 0.25630342772758491),\n",
       "  (27, 0.25094278954243399),\n",
       "  (50, 0.23232590034676179),\n",
       "  (6, 0.22949229553413972),\n",
       "  (41, 0.22194204154020966),\n",
       "  (53, 0.20412180378468833),\n",
       "  (29, 0.19951399043274506),\n",
       "  (44, 0.17758140518697105),\n",
       "  (43, 0.17708038841120402),\n",
       "  (49, 0.17585070803833588),\n",
       "  (10, 0.1645140206260681),\n",
       "  (33, 0.16348982408078511),\n",
       "  (18, 0.16337793941371223),\n",
       "  (39, 0.16257499212455748),\n",
       "  (38, 0.16201468609547354),\n",
       "  (47, 0.15862867431961761),\n",
       "  (13, 0.15658387099138896),\n",
       "  (31, 0.1538787678582991),\n",
       "  (52, 0.15290924413755977),\n",
       "  (35, 0.14955179447364805),\n",
       "  (26, 0.14651575241915385),\n",
       "  (42, 0.14480520588930187),\n",
       "  (9, 0.14230040266545613),\n",
       "  (37, 0.1405223464412689),\n",
       "  (8, 0.14044505977050781),\n",
       "  (3, 0.13966574822298686),\n",
       "  (16, 0.13843724682362873),\n",
       "  (51, 0.13669546002578734),\n",
       "  (0, 0.13634405409368458),\n",
       "  (24, 0.1363152519308726),\n",
       "  (7, 0.13375286812019346),\n",
       "  (23, 0.13241047217877705),\n",
       "  (46, 0.13045048271052043),\n",
       "  (57, 0.12635742628331426),\n",
       "  (14, 0.12116291994921945),\n",
       "  (45, 0.11780459239514668),\n",
       "  (40, 0.1176552164065101),\n",
       "  (36, 0.11599382315508523),\n",
       "  (34, 0.10963958377711557),\n",
       "  (1, 0.10941097691090901),\n",
       "  (19, 0.10638462061119079),\n",
       "  (25, 0.10586070571772256),\n",
       "  (5, 0.10405207231076558),\n",
       "  (32, 0.10383532995414733),\n",
       "  (54, 0.10336077764066059),\n",
       "  (20, 0.10248287833485951),\n",
       "  (28, 0.09975472643407185),\n",
       "  (21, 0.095468624185250026),\n",
       "  (12, 0.089972064439773555),\n",
       "  (55, 0.069459021632194515),\n",
       "  (11, 0.064746030282541958),\n",
       "  (48, 0.036864862386703494),\n",
       "  (22, 0.015887460901657741)])"
      ]
     },
     "execution_count": 523,
     "metadata": {},
     "output_type": "execute_result"
    }
   ],
   "source": [
    "mean_rankers_data[1]"
   ]
  },
  {
   "cell_type": "code",
   "execution_count": 524,
   "metadata": {
    "collapsed": true
   },
   "outputs": [],
   "source": [
    "def instance_score(answer, texts):\n",
    "    for doc_text in texts:\n",
    "        if doc_text.find(answer) != -1:\n",
    "            return 1\n",
    "    return 0"
   ]
  },
  {
   "cell_type": "code",
   "execution_count": 525,
   "metadata": {
    "collapsed": false
   },
   "outputs": [],
   "source": [
    "recall_mapping = {}\n",
    "for n in range(1, 59):\n",
    "    correct_answers = 0\n",
    "    for instance in mean_rankers_data:\n",
    "        top_n_ids = [pair[0] for pair in instance[2]][:n]\n",
    "        top_n_texts = [id2par[j] for j in top_n_ids]\n",
    "        top_n_texts = [text.lower() for text in top_n_texts]\n",
    "        formatted_answer = instance[1].strip().lower()\n",
    "        correct_answers += instance_score(formatted_answer, top_n_texts)\n",
    "    recall = correct_answers / len(rnet_data)\n",
    "    recall_mapping[n] = recall"
   ]
  },
  {
   "cell_type": "code",
   "execution_count": 526,
   "metadata": {
    "collapsed": false
   },
   "outputs": [
    {
     "data": {
      "text/plain": [
       "{1: 0.34306569343065696,\n",
       " 2: 0.44525547445255476,\n",
       " 3: 0.48905109489051096,\n",
       " 4: 0.5328467153284672,\n",
       " 5: 0.5474452554744526,\n",
       " 6: 0.5766423357664233,\n",
       " 7: 0.6131386861313869,\n",
       " 8: 0.6423357664233577,\n",
       " 9: 0.6715328467153284,\n",
       " 10: 0.7007299270072993,\n",
       " 11: 0.7153284671532847,\n",
       " 12: 0.7226277372262774,\n",
       " 13: 0.7445255474452555,\n",
       " 14: 0.7591240875912408,\n",
       " 15: 0.7883211678832117,\n",
       " 16: 0.7956204379562044,\n",
       " 17: 0.8102189781021898,\n",
       " 18: 0.8394160583941606,\n",
       " 19: 0.8394160583941606,\n",
       " 20: 0.8394160583941606,\n",
       " 21: 0.8467153284671532,\n",
       " 22: 0.8613138686131386,\n",
       " 23: 0.8832116788321168,\n",
       " 24: 0.8905109489051095,\n",
       " 25: 0.8978102189781022,\n",
       " 26: 0.8978102189781022,\n",
       " 27: 0.9051094890510949,\n",
       " 28: 0.9124087591240876,\n",
       " 29: 0.9124087591240876,\n",
       " 30: 0.9124087591240876,\n",
       " 31: 0.9124087591240876,\n",
       " 32: 0.9124087591240876,\n",
       " 33: 0.9197080291970803,\n",
       " 34: 0.927007299270073,\n",
       " 35: 0.927007299270073,\n",
       " 36: 0.9343065693430657,\n",
       " 37: 0.9343065693430657,\n",
       " 38: 0.9343065693430657,\n",
       " 39: 0.9416058394160584,\n",
       " 40: 0.9416058394160584,\n",
       " 41: 0.9416058394160584,\n",
       " 42: 0.948905109489051,\n",
       " 43: 0.9562043795620438,\n",
       " 44: 0.9562043795620438,\n",
       " 45: 0.9562043795620438,\n",
       " 46: 0.9708029197080292,\n",
       " 47: 0.9708029197080292,\n",
       " 48: 0.9781021897810219,\n",
       " 49: 0.9781021897810219,\n",
       " 50: 0.9781021897810219,\n",
       " 51: 0.9854014598540146,\n",
       " 52: 0.9927007299270073,\n",
       " 53: 0.9927007299270073,\n",
       " 54: 1.0,\n",
       " 55: 1.0,\n",
       " 56: 1.0,\n",
       " 57: 1.0,\n",
       " 58: 1.0}"
      ]
     },
     "execution_count": 526,
     "metadata": {},
     "output_type": "execute_result"
    }
   ],
   "source": [
    "recall_mapping"
   ]
  },
  {
   "cell_type": "code",
   "execution_count": null,
   "metadata": {
    "collapsed": true
   },
   "outputs": [],
   "source": []
  },
  {
   "cell_type": "code",
   "execution_count": null,
   "metadata": {
    "collapsed": true
   },
   "outputs": [],
   "source": []
  }
 ],
 "metadata": {
  "kernelspec": {
   "display_name": "tensorflow",
   "language": "python",
   "name": "tensorflow"
  },
  "language_info": {
   "codemirror_mode": {
    "name": "ipython",
    "version": 3
   },
   "file_extension": ".py",
   "mimetype": "text/x-python",
   "name": "python",
   "nbconvert_exporter": "python",
   "pygments_lexer": "ipython3",
   "version": "3.6.2"
  }
 },
 "nbformat": 4,
 "nbformat_minor": 2
}
